{
 "cells": [
  {
   "attachments": {},
   "cell_type": "markdown",
   "id": "8cc26962-ebf2-4623-8b5a-efb2d569eaa4",
   "metadata": {},
   "source": [
    "# Image registration for Rededge Rivers\n",
    "\n",
    "As it is a sequoia orthomosaic, scaled from 0-to-1, we assume it is calibrated\n",
    "* For the following Dataset: https://zenodo.org/records/7144071 \n",
    "* Using code snippets from:\n",
    "\n",
    "Output: `uint16` 0-65535 scaled .tif files with green, red, rededge, nir bands\n"
   ]
  },
  {
   "cell_type": "code",
   "execution_count": 4,
   "id": "384ecad8-063c-4cdf-ab94-3884ddb440d4",
   "metadata": {},
   "outputs": [],
   "source": [
    "import os\n",
    "import rioxarray as rxr\n",
    "import xarray as xr\n",
    "import tifffile\n",
    "from glob import glob\n",
    "import numpy as np\n",
    "from itertools import repeat"
   ]
  },
  {
   "cell_type": "code",
   "execution_count": 14,
   "id": "d4834634-1e25-498d-b96f-bfcb271a97e1",
   "metadata": {},
   "outputs": [],
   "source": [
    "def load_image(path):\n",
    "    return rxr.open_rasterio(path), path\n",
    "    \n",
    "def rescale_to_uint16(da):\n",
    "    da = da.where(~np.isnan(da), 65535)\n",
    "    rescaled = (da * 65535).clip(0, 65535).astype(np.uint16)\n",
    "    \n",
    "    return rescaled\n",
    "\n",
    "def rescale_float32_to_uint16_xarray(xarr):\n",
    "    # Mask NaNs and -1000 values\n",
    "    xarr = xr.where(xarr == -1, 1, xarr)\n",
    "    \n",
    "    # Find min and max values ignoring NaNs\n",
    "    min_val = 0\n",
    "    max_val = 1\n",
    "    \n",
    "    # Normalize to [0, 1] ignoring NaNs\n",
    "    normalized = (xarr - min_val) / (max_val - min_val)\n",
    "    \n",
    "    # Scale to [0, 65534]\n",
    "    scaled = (normalized * 65535).astype(np.uint16)\n",
    "    \n",
    "    # Set NaNs and -1000 to 65535\n",
    "    scaled = scaled.where(~xarr.isnull() & (xarr != -1000), 65535)\n",
    "    \n",
    "    return scaled\n",
    "    \n",
    "def create_4_channel_image(green, red,rededge, nir):\n",
    "    \"\"\"Create a 4-channel image (G, R, RE, NIR).\"\"\"\n",
    "    return np.stack((green, red, rededge, nir), axis=-1)\n",
    "    \n",
    "\n",
    "def save_image(filename, image, metadata=None):\n",
    "    \"\"\"Save the image as a 4-channel TIFF using tifffile.\"\"\"\n",
    "    #tifffile.imwrite(filename, image, photometric='rgb',extratags=metadata[0],subifds = metadata[1])\n",
    "    if metadata is not None:\n",
    "        extratags = metadata[0]\n",
    "        subifds = metadata[1]\n",
    "        with tifffile.TiffWriter(filename) as tiff:\n",
    "            tiff.write(\n",
    "                image,\n",
    "                photometric='rgb',\n",
    "                extratags=extratags,\n",
    "                subifds=subifds\n",
    "            )\n",
    "    else:\n",
    "        with tifffile.TiffWriter(filename) as tiff:\n",
    "            tiff.write(\n",
    "                image,\n",
    "                photometric='rgb')\n",
    "            \n",
    "\n",
    "\n",
    "def process_multispec_set(green_image_path, output_directory):\n",
    "\n",
    "    base_name = os.path.basename(green_image_path).replace(\"green.data.tif\", \"\")\n",
    "    # Load the green band image (reference image)\n",
    "    dirname = os.path.dirname(green_image_path)\n",
    "    ###REDO WHEN THIS NEEDS REDOING\n",
    "    green = load_image(green_image_path)\n",
    "    red = load_image(base_name+\"red.data.tif\")\n",
    "    rededge = load_image(base_name+\"rededge.data.tif\")\n",
    "    nir = load_image(base_name+\"nir.data.tif\")\n",
    "    print(nir)\n",
    "    print(nir.min())\n",
    "    print(nir.max())\n",
    "    green = rescale_float32_to_uint16_xarray(green)\n",
    "    red = rescale_float32_to_uint16_xarray(red)\n",
    "    rededge = rescale_float32_to_uint16_xarray(rededge)\n",
    "    nir = rescale_float32_to_uint16_xarray(nir)\n",
    "\n",
    "    \n",
    "     # Create a 4-channel image\n",
    "    image_4ch = create_4_channel_image(green, red, rededge, nir)\n",
    "\n",
    "    sensor = \"REDEDGE\"\n",
    "    cal = \"CAL\"\n",
    "    set_title = os.path.basename(os.path.normpath(output_directory))\n",
    "    output_filename = f\"{sensor}_{cal}_{set_title}_{base_name}.tif\"\n",
    "    output_path = os.path.join(output_directory, output_filename)\n",
    "    os.makedirs(output_directory, exist_ok=True)\n",
    "\n",
    "\n",
    "    # Save the 4-channel image\n",
    "    save_image(output_path, image_4ch)\n",
    "\n",
    "from concurrent.futures import ThreadPoolExecutor\n",
    "from tqdm import tqdm\n",
    "\n",
    "def process_directory(input_dir, output_directory, n_threads= 1):\n",
    "    \"\"\"Process an entire directory with multiple sets of multispectral images.\"\"\"\n",
    "    input_dir = os.path.abspath(input_dir)\n",
    "    os.makedirs(output_directory, exist_ok=True)\n",
    "\n",
    "    # Find all green band images (reference images)\n",
    "    green_images = glob(os.path.join(input_dir, \"*MS_DLS*.TIF\"))\n",
    "\n",
    "    # Process sets of 4 multispectral images in parallel with a progress bar\n",
    "    with ThreadPoolExecutor(max_workers=n_threads) as executor:\n",
    "        list(tqdm(executor.map(process_multispec_set, green_images, repeat(output_directory)), total=len(green_images)))\n",
    "\n",
    "    print(\"All images successfully processed.\")"
   ]
  },
  {
   "cell_type": "code",
   "execution_count": null,
   "id": "7f03231e-fe90-4f35-9cb4-f17e9ffc3887",
   "metadata": {},
   "outputs": [],
   "source": []
  },
  {
   "cell_type": "code",
   "execution_count": null,
   "id": "fc650079-14de-4c19-9334-56862132a17e",
   "metadata": {},
   "outputs": [],
   "source": [
    "@@@ ALL WRONG"
   ]
  },
  {
   "cell_type": "code",
   "execution_count": 15,
   "id": "76d333a7-e552-4d25-8f82-57bab3d119a2",
   "metadata": {},
   "outputs": [
    {
     "name": "stderr",
     "output_type": "stream",
     "text": [
      "0it [00:00, ?it/s]"
     ]
    },
    {
     "name": "stdout",
     "output_type": "stream",
     "text": [
      "All images successfully processed.\n"
     ]
    },
    {
     "name": "stderr",
     "output_type": "stream",
     "text": [
      "\n"
     ]
    }
   ],
   "source": [
    "folder = \"../data/Rededge_rivers/Emmericher\"\n",
    "input_folder = folder\n",
    "output_folder = \"../data/processed/rededge_rivers_em/\"\n",
    "process_directory(input_folder, output_folder)"
   ]
  },
  {
   "cell_type": "code",
   "execution_count": 16,
   "id": "c1e91a9a-0585-482e-8dc4-1bad745d2eaa",
   "metadata": {},
   "outputs": [
    {
     "name": "stderr",
     "output_type": "stream",
     "text": [
      "  0%|                                                                                            | 0/3 [00:00<?, ?it/s]"
     ]
    },
    {
     "name": "stdout",
     "output_type": "stream",
     "text": [
      "<xarray.DataArray ()> Size: 4B\n",
      "array(-1., dtype=float32)\n",
      "Coordinates:\n",
      "    band         int64 8B 5\n",
      "    spatial_ref  int64 8B 0\n"
     ]
    },
    {
     "name": "stderr",
     "output_type": "stream",
     "text": [
      "C:\\Users\\judoj\\mambaforge\\envs\\msdata\\Lib\\site-packages\\xarray\\core\\duck_array_ops.py:234: RuntimeWarning: invalid value encountered in cast\n",
      "  return data.astype(dtype, **kwargs)\n",
      " 33%|████████████████████████████                                                        | 1/3 [00:01<00:02,  1.43s/it]"
     ]
    },
    {
     "name": "stdout",
     "output_type": "stream",
     "text": [
      "<xarray.DataArray ()> Size: 4B\n",
      "array(-1., dtype=float32)\n",
      "Coordinates:\n",
      "    band         int64 8B 5\n",
      "    spatial_ref  int64 8B 0\n"
     ]
    },
    {
     "name": "stderr",
     "output_type": "stream",
     "text": [
      "C:\\Users\\judoj\\mambaforge\\envs\\msdata\\Lib\\site-packages\\xarray\\core\\duck_array_ops.py:234: RuntimeWarning: invalid value encountered in cast\n",
      "  return data.astype(dtype, **kwargs)\n",
      " 67%|████████████████████████████████████████████████████████                            | 2/3 [00:02<00:01,  1.41s/it]"
     ]
    },
    {
     "name": "stdout",
     "output_type": "stream",
     "text": [
      "<xarray.DataArray ()> Size: 4B\n",
      "array(-0.33537203, dtype=float32)\n",
      "Coordinates:\n",
      "    band         int64 8B 5\n",
      "    spatial_ref  int64 8B 0\n"
     ]
    },
    {
     "name": "stderr",
     "output_type": "stream",
     "text": [
      "100%|████████████████████████████████████████████████████████████████████████████████████| 3/3 [00:04<00:00,  1.36s/it]"
     ]
    },
    {
     "name": "stdout",
     "output_type": "stream",
     "text": [
      "All images successfully processed.\n"
     ]
    },
    {
     "name": "stderr",
     "output_type": "stream",
     "text": [
      "\n"
     ]
    }
   ],
   "source": [
    "folder = \"../data/Rededge_rivers/Kuehkopf\"\n",
    "input_folder = folder\n",
    "output_folder = \"../data/processed/rededge_rivers_kk/\"\n",
    "process_directory(input_folder, output_folder)"
   ]
  },
  {
   "cell_type": "code",
   "execution_count": 17,
   "id": "7456351f-e024-419f-a1c9-1f2d0c6c8767",
   "metadata": {},
   "outputs": [
    {
     "name": "stderr",
     "output_type": "stream",
     "text": [
      "  0%|                                                                                            | 0/2 [00:00<?, ?it/s]"
     ]
    },
    {
     "name": "stdout",
     "output_type": "stream",
     "text": [
      "<xarray.DataArray ()> Size: 8B\n",
      "array(0.)\n",
      "Coordinates:\n",
      "    band         int64 8B 5\n",
      "    spatial_ref  int64 8B 0\n"
     ]
    },
    {
     "name": "stderr",
     "output_type": "stream",
     "text": [
      "C:\\Users\\judoj\\mambaforge\\envs\\msdata\\Lib\\site-packages\\xarray\\core\\duck_array_ops.py:234: RuntimeWarning: invalid value encountered in cast\n",
      "  return data.astype(dtype, **kwargs)\n",
      " 50%|██████████████████████████████████████████                                          | 1/2 [00:00<00:00,  1.83it/s]"
     ]
    },
    {
     "name": "stdout",
     "output_type": "stream",
     "text": [
      "<xarray.DataArray ()> Size: 8B\n",
      "array(-1.)\n",
      "Coordinates:\n",
      "    band         int64 8B 5\n",
      "    spatial_ref  int64 8B 0\n"
     ]
    },
    {
     "name": "stderr",
     "output_type": "stream",
     "text": [
      "C:\\Users\\judoj\\mambaforge\\envs\\msdata\\Lib\\site-packages\\xarray\\core\\duck_array_ops.py:234: RuntimeWarning: invalid value encountered in cast\n",
      "  return data.astype(dtype, **kwargs)\n",
      "C:\\Users\\judoj\\mambaforge\\envs\\msdata\\Lib\\site-packages\\xarray\\core\\duck_array_ops.py:234: RuntimeWarning: invalid value encountered in cast\n",
      "  return data.astype(dtype, **kwargs)\n",
      "100%|████████████████████████████████████████████████████████████████████████████████████| 2/2 [00:01<00:00,  1.57it/s]"
     ]
    },
    {
     "name": "stdout",
     "output_type": "stream",
     "text": [
      "All images successfully processed.\n"
     ]
    },
    {
     "name": "stderr",
     "output_type": "stream",
     "text": [
      "\n"
     ]
    }
   ],
   "source": [
    "folder = \"../data/Rededge_rivers/Laubenheim\"\n",
    "input_folder = folder\n",
    "output_folder = \"../data/processed/rededge_rivers_lh/\"\n",
    "process_directory(input_folder, output_folder)"
   ]
  },
  {
   "cell_type": "code",
   "execution_count": 18,
   "id": "f8d35f48-a45e-44f0-a788-120813420fc5",
   "metadata": {},
   "outputs": [
    {
     "name": "stderr",
     "output_type": "stream",
     "text": [
      "0it [00:00, ?it/s]"
     ]
    },
    {
     "name": "stdout",
     "output_type": "stream",
     "text": [
      "All images successfully processed.\n"
     ]
    },
    {
     "name": "stderr",
     "output_type": "stream",
     "text": [
      "\n"
     ]
    }
   ],
   "source": [
    "folder = \"../data/Rededge_rivers/Niederwerth_s\"\n",
    "input_folder = folder\n",
    "output_folder = \"../data/processed/rededge_rivers_ns/\"\n",
    "process_directory(input_folder, output_folder)"
   ]
  },
  {
   "cell_type": "code",
   "execution_count": 19,
   "id": "8b58f7a0-7911-40d2-8705-0962621b264b",
   "metadata": {},
   "outputs": [
    {
     "name": "stderr",
     "output_type": "stream",
     "text": [
      "  0%|                                                                                            | 0/1 [00:00<?, ?it/s]"
     ]
    },
    {
     "name": "stdout",
     "output_type": "stream",
     "text": [
      "<xarray.DataArray ()> Size: 8B\n",
      "array(-1.)\n",
      "Coordinates:\n",
      "    band         int64 8B 5\n",
      "    spatial_ref  int64 8B 0\n"
     ]
    },
    {
     "name": "stderr",
     "output_type": "stream",
     "text": [
      "100%|████████████████████████████████████████████████████████████████████████████████████| 1/1 [00:00<00:00,  1.81it/s]"
     ]
    },
    {
     "name": "stdout",
     "output_type": "stream",
     "text": [
      "All images successfully processed.\n"
     ]
    },
    {
     "name": "stderr",
     "output_type": "stream",
     "text": [
      "\n"
     ]
    }
   ],
   "source": [
    "folder = \"../data/Rededge_rivers/Niederwerth_w\"\n",
    "input_folder = folder\n",
    "output_folder = \"../data/processed/rededge_rivers_nw/\"\n",
    "process_directory(input_folder, output_folder)"
   ]
  },
  {
   "cell_type": "code",
   "execution_count": 20,
   "id": "09700e6e-374a-4151-b4ae-9c88c236d3d5",
   "metadata": {},
   "outputs": [
    {
     "name": "stderr",
     "output_type": "stream",
     "text": [
      "0it [00:00, ?it/s]"
     ]
    },
    {
     "name": "stdout",
     "output_type": "stream",
     "text": [
      "All images successfully processed.\n"
     ]
    },
    {
     "name": "stderr",
     "output_type": "stream",
     "text": [
      "\n"
     ]
    }
   ],
   "source": [
    "folder = \"../data/Rededge_rivers/Nonnenwerth\"\n",
    "input_folder = folder\n",
    "output_folder = \"../data/processed/rededge_rivers_nw\"\n",
    "process_directory(input_folder, output_folder)"
   ]
  },
  {
   "cell_type": "code",
   "execution_count": 21,
   "id": "3a8ba9e7-04d6-4915-87b8-2685b71b1aef",
   "metadata": {},
   "outputs": [
    {
     "name": "stderr",
     "output_type": "stream",
     "text": [
      "0it [00:00, ?it/s]"
     ]
    },
    {
     "name": "stdout",
     "output_type": "stream",
     "text": [
      "All images successfully processed.\n"
     ]
    },
    {
     "name": "stderr",
     "output_type": "stream",
     "text": [
      "\n"
     ]
    }
   ],
   "source": [
    "folder = \"../data/Rededge_rivers/Reitwein\"\n",
    "input_folder = folder\n",
    "output_folder = \"../data/processed/rededge_rivers_rw/\"\n",
    "process_directory(input_folder, output_folder)"
   ]
  },
  {
   "cell_type": "code",
   "execution_count": null,
   "id": "7ad49dda-d2d0-4a76-9c63-9f82f476de2a",
   "metadata": {},
   "outputs": [],
   "source": []
  }
 ],
 "metadata": {
  "kernelspec": {
   "display_name": "Python 3 (ipykernel)",
   "language": "python",
   "name": "python3"
  },
  "language_info": {
   "codemirror_mode": {
    "name": "ipython",
    "version": 3
   },
   "file_extension": ".py",
   "mimetype": "text/x-python",
   "name": "python",
   "nbconvert_exporter": "python",
   "pygments_lexer": "ipython3",
   "version": "3.13.1"
  }
 },
 "nbformat": 4,
 "nbformat_minor": 5
}
