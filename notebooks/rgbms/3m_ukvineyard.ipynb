{
 "cells": [
  {
   "cell_type": "markdown",
   "id": "8d8e770e-077c-4f35-a84b-65c397fa4446",
   "metadata": {},
   "source": [
    "# Image registration for Mavic 3M\n",
    "As it is a Mavic 3M flight without calibration panel, only the images are co-registered and saved as 4 channel .tifs\n",
    "* For the following Dataset: https://zenodo.org/records/14328464, https://zenodo.org/records/14281334, https://zenodo.org/records/14284315, https://zenodo.org/records/14274523\n",
    "* Using code snippets from: https://gitlab.com/Yario/image_registration_dji_mavic_3m/-/blob/main/coregistration_mavic_3m_images.py\n"
   ]
  },
  {
   "cell_type": "code",
   "execution_count": 8,
   "id": "6b11f6a0-82ed-4aed-9b92-fb2d795ecfde",
   "metadata": {},
   "outputs": [],
   "source": [
    "import os\n",
    "import numpy as np\n",
    "from glob import glob\n",
    "from multiprocessing import Pool\n",
    "from itertools import repeat\n",
    "from PIL import Image\n",
    "import piexif\n",
    "import cv2\n",
    "from tqdm import tqdm\n",
    "import tifffile\n",
    "import tifftools\n",
    "from xml.etree import cElementTree as ElementTree\n",
    "from tifffile import TiffFile\n",
    "import xml.etree.ElementTree as ET\n",
    "# Utility functions\n",
    "\n",
    "def calibrate_image(nir_image, metadata):\n",
    "    # Parse the metadata\n",
    "    root = ET.fromstring(metadata[\"XMP\"])\n",
    "    xmldict = XmlDictConfig(root)\n",
    "    base = xmldict['{http://www.w3.org/1999/02/22-rdf-syntax-ns#}RDF']['{http://www.w3.org/1999/02/22-rdf-syntax-ns#}Description']\n",
    "    gimbal_r = base['{http://www.dji.com/drone-dji/1.0/}GimbalReverse']\n",
    "    \n",
    "    # Extract necessary metadata values\n",
    "    black_level = 4096  # Fixed value\n",
    "    vignetting_coeffs = [float(k) for k in base['{http://www.dji.com/drone-dji/1.0/}VignettingData'].split(\",\")]  # Extract vignetting coefficients\n",
    "    center_x = float(base['{http://www.dji.com/drone-dji/1.0/}CalibratedOpticalCenterX'])\n",
    "    center_y = float(base['{http://www.dji.com/drone-dji/1.0/}CalibratedOpticalCenterY'])\n",
    "    sensor_gain = float(base['{http://www.dji.com/drone-dji/1.0/}SensorGain'])\n",
    "    exposure_time = float(base['{http://www.dji.com/drone-dji/1.0/}ExposureTime'])\n",
    "    irradiance = float(base['{http://www.dji.com/drone-dji/1.0/}Irradiance'])  # NIR_LS * p_LSNIR\n",
    "    \n",
    "    # Step 1: Normalize the raw pixel values\n",
    "    nir_camera = (nir_image / 65535 - black_level / 65535) * 1e6 / (sensor_gain * exposure_time)\n",
    "    \n",
    "    # Step 2: Apply vignetting correction\n",
    "    height, width = nir_image.shape\n",
    "    x, y = np.meshgrid(np.arange(width), np.arange(height))\n",
    "    r = np.sqrt((x - center_x) ** 2 + (y - center_y) ** 2)\n",
    "    vignetting_correction = sum([vignetting_coeffs[i] * r ** i for i in range(len(vignetting_coeffs))]) + 1.0\n",
    "    nir_camera_corrected = nir_camera * vignetting_correction\n",
    "\n",
    "\n",
    "    dewarp = base['{http://www.dji.com/drone-dji/1.0/}DewarpData'].split(\",\")\n",
    "    # Step 3: Apply distortion correction\n",
    "    fx = float(dewarp[0].split(\";\")[1])\n",
    "    fy = float(dewarp[1])\n",
    "    cx = float(dewarp[2])\n",
    "    cy = float(dewarp[3])\n",
    "    \n",
    "    camera_matrix = np.array([[fx, 0, center_x + cx],\n",
    "                              [0, fy, center_y + cy],\n",
    "                              [0, 0, 1]])\n",
    "    \n",
    "    k1 = float(dewarp[-5])\n",
    "    k2 = float(dewarp[-4])\n",
    "    p1 = float(dewarp[-3])\n",
    "    p2 = float(dewarp[-2])\n",
    "    k3 = float(dewarp[-1])\n",
    "\n",
    "    dist_coeffs = np.array([k1,k2,p1,p2,k3])\n",
    "    \n",
    "    # Apply distortion correction\n",
    "    nir_camera_undistorted = cv2.undistort(nir_camera_corrected, camera_matrix, dist_coeffs)\n",
    "    \n",
    "    # Step 4: Calculate reflectance\n",
    "    reflectance = nir_camera_undistorted / irradiance\n",
    "    \n",
    "    # Save the reflectance image\n",
    "    return reflectance\n",
    "\n",
    "\n",
    "def load_image(filename):\n",
    "    \"\"\"Load a single image with the metadata as byte dump.\"\"\"\n",
    "    image = np.asarray(Image.open(filename))\n",
    "\n",
    "    t = TiffFile(filename)\n",
    "    metadata = t.pages[0].tags\n",
    "    \n",
    "\n",
    "    \n",
    "    # Convert tifftags to a dictionary\n",
    "    metadata_dict = {tag.name: tag.value for tag in metadata.values()}\n",
    "    metadata_dict[\"XMP\"] = metadata_dict[\"XMP\"].decode(\"utf-8\")\n",
    "    metadata_dict[\"ExifTag\"][\"FileSource\"] = metadata_dict[\"ExifTag\"][\"FileSource\"].decode()\n",
    "    metadata_dict[\"ExifTag\"][\"SceneType\"] = metadata_dict[\"ExifTag\"][\"SceneType\"].decode()\n",
    "    metadata_dict[\"GPSTag\"][\"GPSVersionID\"] = tuple(metadata_dict[\"GPSTag\"][\"GPSVersionID\"])\n",
    "    metadata_dict[\"XPComment\"] = list(metadata_dict[\"XPComment\"])\n",
    "    metadata_dict['XPKeywords'] = metadata_dict['XPKeywords'].decode()\n",
    "\n",
    "    tags = metadata\n",
    "    exif_ifd = tags.get(34665)  # Exif IFD tag\n",
    "    gps_ifd = tags.get(34853)   # GPS IFD tag\n",
    "    \n",
    "    # Step 2: Convert tags to extratags format\n",
    "    extratags = []\n",
    "    subifds = []\n",
    "        # Handle Exif IFD\n",
    "    if exif_ifd:\n",
    "        subifds.append(exif_ifd.value)\n",
    "        #extratags.append((34665, 'I', 1, 0))  # Pointer to the first sub-IFD\n",
    "    \n",
    "    # Handle GPS IFD\n",
    "    if gps_ifd:\n",
    "        subifds.append(gps_ifd.value)\n",
    "        #extratags.append((34853, 'I', 1, 1))  # Pointer to the second sub-IFD\n",
    "    \n",
    "    # Step 3: Add remaining tags to extratags\n",
    "    for tag in tags.values():\n",
    "        if tag.code not in [257, 258, 259, 262, 270, 273, 277, 279, 305, 34665, 34853, 256]:  # Skip Exif and GPS IFDs\n",
    "            dtype = tag.dtype\n",
    "            value = tag.value\n",
    "    \n",
    "            if isinstance(value, str):\n",
    "                value = value.encode('utf-8')\n",
    "    \n",
    "            count = len(value) if isinstance(value, (bytes, bytearray)) else 1\n",
    "            extratags.append((tag.code, dtype, count, value))\n",
    "    \n",
    "    return image, (extratags,subifds,metadata_dict)\n",
    "    \n",
    "def process_xml_dict_3m(xml_string):\n",
    "    root = ET.fromstring(xml_string)\n",
    "    xmldict = XmlDictConfig(root)\n",
    "    return xmldict\n",
    "    \n",
    "def save_image(filename, image, metadata=None):\n",
    "    \"\"\"Save the image as a 4-channel TIFF using tifffile.\"\"\"\n",
    "    #tifffile.imwrite(filename, image, photometric='rgb',extratags=metadata[0],subifds = metadata[1])\n",
    "    if metadata is not None:\n",
    "        extratags = metadata[0]\n",
    "        subifds = metadata[1]\n",
    "    else:\n",
    "        extratags = None\n",
    "        subifds= None\n",
    "        \n",
    "    with tifffile.TiffWriter(filename) as tiff:\n",
    "        tiff.write(\n",
    "            image,\n",
    "            photometric='rgb',\n",
    "            extratags=extratags,\n",
    "            subifds=subifds\n",
    "        )\n",
    "\n",
    "# Create a directory to save homographies\n",
    "os.makedirs(\"homographies\", exist_ok=True)\n",
    "\n",
    "\n",
    "def align_images(image1, image2, band_name, green_image_path, set_title = \"set\"):\n",
    "    \"\"\"Align two images using ORB keypoints and cached affine transformation with quantization.\"\"\"\n",
    "    # Create a unique transformation filename\n",
    "    base_name = os.path.basename(green_image_path).replace(\"_G.TIF\", \"\")\n",
    "    affine_filename = f\"homographies/{band_name}_{set_title}_affine.npy\"\n",
    "\n",
    "    # Quantize images to uint8 if necessary\n",
    "    image1_8bit = quantize_to_uint8(image1)\n",
    "    image2_8bit = quantize_to_uint8(image2)\n",
    "\n",
    "    # Check if the affine transformation is already cached\n",
    "    if os.path.exists(affine_filename):\n",
    "        affine_matrix = np.load(affine_filename)\n",
    "    else:\n",
    "        # Convert images to grayscale if they are RGB\n",
    "        if len(image1_8bit.shape) == 3 and image1_8bit.shape[-1] == 3:\n",
    "            gray1 = cv2.cvtColor(image1_8bit, cv2.COLOR_RGB2GRAY)\n",
    "        else:\n",
    "            gray1 = image1_8bit\n",
    "\n",
    "        if len(image2_8bit.shape) == 3 and image2_8bit.shape[-1] == 3:\n",
    "            gray2 = cv2.cvtColor(image2_8bit, cv2.COLOR_RGB2GRAY)\n",
    "        else:\n",
    "            gray2 = image2_8bit\n",
    "\n",
    "        # Use ORB to find keypoints and descriptors\n",
    "        orb = cv2.ORB_create(50000)\n",
    "        keypoints1, descriptors1 = orb.detectAndCompute(gray1, None)\n",
    "        keypoints2, descriptors2 = orb.detectAndCompute(gray2, None)\n",
    "\n",
    "        # Match descriptors using FLANN-based matcher\n",
    "        index_params = dict(algorithm=6, table_number=12, key_size=20, multi_probe_level=2)\n",
    "        search_params = dict(checks=50)\n",
    "        flann = cv2.FlannBasedMatcher(index_params, search_params)\n",
    "        matches = flann.knnMatch(descriptors1, descriptors2, k=2)\n",
    "\n",
    "        # Filter matches using the ratio test\n",
    "        good_matches = [m for m, n in matches if m.distance < 0.7 * n.distance]\n",
    "\n",
    "        if len(good_matches) < 2:\n",
    "            raise ValueError(\"Not enough good matches to compute affine transformation.\")\n",
    "\n",
    "        # Extract matched points\n",
    "        src_pts = np.float32([keypoints1[m.queryIdx].pt for m in good_matches]).reshape(-1, 1, 2)\n",
    "        dst_pts = np.float32([keypoints2[m.trainIdx].pt for m in good_matches]).reshape(-1, 1, 2)\n",
    "\n",
    "        # Compute the affine transformation\n",
    "        affine_matrix, _ = cv2.estimateAffinePartial2D(dst_pts, src_pts, method=cv2.RANSAC, ransacReprojThreshold=5.0)\n",
    "\n",
    "        # Save the affine transformation to disk\n",
    "        np.save(affine_filename, affine_matrix)\n",
    "\n",
    "    # Apply the affine transformation\n",
    "    sz = image1.shape\n",
    "    aligned_image = cv2.warpAffine(image2, affine_matrix, (sz[1], sz[0]), flags=cv2.INTER_LINEAR)\n",
    "\n",
    "    return aligned_image\n",
    "\n",
    "def quantize_to_uint8(image):\n",
    "    \"\"\"Convert an image to uint8, scaling values if necessary.\"\"\"\n",
    "    if image.dtype != np.uint8:\n",
    "        if image.max() > 255:\n",
    "            image = (image / image.max()) * 255\n",
    "        image = image.astype(np.uint8)\n",
    "    return image\n",
    "def create_4_channel_image(green_image, red_image, rededge_image, nir_image):\n",
    "    \"\"\"Create a 4-channel image (G, R, RE, NIR).\"\"\"\n",
    "    return np.stack((green_image, red_image, rededge_image, nir_image), axis=-1)\n",
    "    \n",
    "def rescale_to_uint16(da):\n",
    "    da = np.where(np.isnan(da), 65535, da)\n",
    "    rescaled = (da * 65535).clip(0, 65535).astype(np.uint16)\n",
    "    \n",
    "    return rescaled\n",
    "    \n",
    "def process_multispec_set(green_image_path, output_directory):\n",
    "    \"\"\"Process one set of multispectral images and save as a 4-channel TIFF.\"\"\"\n",
    "    base_name = os.path.basename(green_image_path).replace(\"_G.TIF\", \"\")\n",
    "    # Load the green band image (reference image)\n",
    "    green_image, green_metadata = load_image(green_image_path)\n",
    "    \n",
    "    bands = {}\n",
    "    for band in [\"R\", \"RE\", \"NIR\"]:\n",
    "        band_image_path = green_image_path.replace(\"_G.TIF\", f\"_{band}.TIF\")\n",
    "        if os.path.exists(band_image_path):\n",
    "            bands[band], bands[band+\"_meta\"] = load_image(band_image_path)\n",
    "        else:\n",
    "            print(f\"Missing {band} band for {green_image_path}\")\n",
    "            return\n",
    "        # Construct the output filename MANUALLY CHANGE TO WHATEVER\n",
    "    sensor = \"3M\"\n",
    "    cal = \"SUNCAL\"\n",
    "    set_title = os.path.basename(os.path.normpath(output_directory))\n",
    "    output_filename = f\"{sensor}_{cal}_{set_title}_{base_name}.tif\"\n",
    "    output_path = os.path.join(output_directory, output_filename)\n",
    "    \n",
    "    # Align each band to the green image using cached homographies\n",
    "    aligned_red = align_images(green_image, bands[\"R\"], \"R\", green_image_path, set_title)\n",
    "    aligned_rededge = align_images(green_image, bands[\"RE\"], \"RE\", green_image_path, set_title)\n",
    "    aligned_nir = align_images(green_image, bands[\"NIR\"], \"NIR\", green_image_path, set_title)\n",
    "\n",
    "    r_green = calibrate_image(green_image, green_metadata[2]) \n",
    "\n",
    "    r_red = calibrate_image(aligned_red, bands[\"R_meta\"][2]) \n",
    "\n",
    "    r_rededge = calibrate_image(aligned_rededge, bands[\"RE_meta\"][2]) \n",
    "\n",
    "    r_nir = calibrate_image(aligned_nir, bands[\"NIR_meta\"][2]) \n",
    "\n",
    "    #rescale to 65535:\n",
    "    g  = rescale_to_uint16(r_green)\n",
    "    r = rescale_to_uint16(r_red)\n",
    "    re = rescale_to_uint16(r_rededge)\n",
    "    nir = rescale_to_uint16(r_nir)\n",
    "\n",
    "\n",
    "    # Create a 4-channel image\n",
    "    image_4ch = create_4_channel_image(g, r, re, nir)\n",
    "\n",
    "\n",
    "    # Save the 4-channel image\n",
    "    save_image(output_path, image_4ch,green_metadata)\n",
    "\n",
    "    \n",
    "    rgb_image_path = green_image_path.replace(\"MS_G.TIF\", \"D.JPG\")\n",
    "    if os.path.exists(rgb_image_path):\n",
    "            \n",
    "        with Image.open(rgb_image_path) as img:\n",
    "            rgb = np.array(img)\n",
    "    else:\n",
    "        print(f\"Skipping due to missing jpg path: {rgb_image_path}\")\n",
    "        return\n",
    "    #reszie to fit? (3m is at different res between G and RGB)\n",
    "    green_shape = green_image.shape\n",
    "    # Resize RGB to match green image dimensions\n",
    "    resized_rgb = cv2.resize(rgb, (green_shape[1], green_shape[0]), interpolation=cv2.INTER_AREA)\n",
    "    aligned_rgb = align_images(green_image, resized_rgb, \"RGB\", base_name, set_title)\n",
    "    rgb_filename = f\"RGB_{set_title}_{base_name}.tif\"\n",
    "    rgb_path = os.path.join(output_directory, rgb_filename)\n",
    "    save_image(rgb_path, aligned_rgb,green_metadata)\n",
    "\n",
    "from concurrent.futures import ThreadPoolExecutor\n",
    "\n",
    "def process_directory(input_dir, output_directory):\n",
    "    \"\"\"Process an entire directory with multiple sets of multispectral images.\"\"\"\n",
    "    input_dir = os.path.abspath(input_dir)\n",
    "    os.makedirs(output_directory, exist_ok=True)\n",
    "\n",
    "    # Find all green band images (reference images)\n",
    "    green_images = glob(os.path.join(input_dir, \"*_G.TIF\"))\n",
    "\n",
    "    # Process sets of 4 multispectral images in parallel with a progress bar\n",
    "    with ThreadPoolExecutor(max_workers=n_threads) as executor:\n",
    "        list(tqdm(executor.map(process_multispec_set, green_images, repeat(output_directory)), total=len(green_images)))\n",
    "\n",
    "    print(\"All images successfully processed.\")\n",
    "\n",
    "\n",
    "\n",
    "class XmlListConfig(list):\n",
    "    def __init__(self, aList):\n",
    "        for element in aList:\n",
    "            if element:\n",
    "                # treat like dict\n",
    "                if len(element) == 1 or element[0].tag != element[1].tag:\n",
    "                    self.append(XmlDictConfig(element))\n",
    "                # treat like list\n",
    "                elif element[0].tag == element[1].tag:\n",
    "                    self.append(XmlListConfig(element))\n",
    "            elif element.text:\n",
    "                text = element.text.strip()\n",
    "                if text:\n",
    "                    self.append(text)\n",
    "\n",
    "\n",
    "class XmlDictConfig(dict):\n",
    "    '''\n",
    "    Example usage:\n",
    "\n",
    "    >>> tree = ElementTree.parse('your_file.xml')\n",
    "    >>> root = tree.getroot()\n",
    "    >>> xmldict = XmlDictConfig(root)\n",
    "\n",
    "    Or, if you want to use an XML string:\n",
    "\n",
    "    >>> root = ElementTree.XML(xml_string)\n",
    "    >>> xmldict = XmlDictConfig(root)\n",
    "\n",
    "    And then use xmldict for what it is... a dict.\n",
    "    '''\n",
    "    def __init__(self, parent_element):\n",
    "        if parent_element.items():\n",
    "            self.update(dict(parent_element.items()))\n",
    "        for element in parent_element:\n",
    "            if element:\n",
    "                # treat like dict - we assume that if the first two tags\n",
    "                # in a series are different, then they are all different.\n",
    "                if len(element) == 1 or element[0].tag != element[1].tag:\n",
    "                    aDict = XmlDictConfig(element)\n",
    "                # treat like list - we assume that if the first two tags\n",
    "                # in a series are the same, then the rest are the same.\n",
    "                else:\n",
    "                    # here, we put the list in dictionary; the key is the\n",
    "                    # tag name the list elements all share in common, and\n",
    "                    # the value is the list itself \n",
    "                    aDict = {element[0].tag: XmlListConfig(element)}\n",
    "                # if the tag has attributes, add those to the dict\n",
    "                if element.items():\n",
    "                    aDict.update(dict(element.items()))\n",
    "                self.update({element.tag: aDict})\n",
    "            # this assumes that if you've got an attribute in a tag,\n",
    "            # you won't be having any text. This may or may not be a \n",
    "            # good idea -- time will tell. It works for the way we are\n",
    "            # currently doing XML configuration files...\n",
    "            elif element.items():\n",
    "                self.update({element.tag: dict(element.items())})\n",
    "            # finally, if there are no child tags and no attributes, extract\n",
    "            # the text\n",
    "            else:\n",
    "                self.update({element.tag: element.text})\n",
    "\n",
    "\n"
   ]
  },
  {
   "cell_type": "code",
   "execution_count": 9,
   "id": "3a1336a4-db73-44cb-84ad-1281abbe04a7",
   "metadata": {},
   "outputs": [],
   "source": [
    "# Define the number of threads for parallel processing\n",
    "n_threads = 8\n",
    "# Define termination criteria for the image registration algorithm; empirically determined:\n",
    "number_of_iterations = 100\n",
    "termination_eps = 1e-6"
   ]
  },
  {
   "cell_type": "code",
   "execution_count": 10,
   "id": "8c71e87e-3a0c-43ff-b192-5031df3274e7",
   "metadata": {
    "scrolled": true
   },
   "outputs": [
    {
     "name": "stderr",
     "output_type": "stream",
     "text": [
      "C:\\Users\\judoj\\AppData\\Local\\Temp\\ipykernel_14752\\3794621238.py:343: DeprecationWarning: Testing an element's truth value will always return True in future versions.  Use specific 'len(elem)' or 'elem is not None' test instead.\n",
      "  if element:\n",
      "C:\\Users\\judoj\\AppData\\Local\\Temp\\ipykernel_14752\\3794621238.py:311: DeprecationWarning: Testing an element's truth value will always return True in future versions.  Use specific 'len(elem)' or 'elem is not None' test instead.\n",
      "  if element:\n",
      "  7%|█████▍                                                                           | 43/635 [01:48<17:48,  1.80s/it]"
     ]
    },
    {
     "name": "stdout",
     "output_type": "stream",
     "text": [
      "Skipping due to missing jpg path: C:\\Users\\judoj\\Documents\\programming\\msdata\\data\\RGBMS_pretraining\\3M_uk_vineyard\\DJI_202407071107_001_DJISmartFarmWeb-pingwest1\\DJI_20240707111422_0043_D.JPG\n"
     ]
    },
    {
     "name": "stderr",
     "output_type": "stream",
     "text": [
      "  7%|█████▋                                                                           | 45/635 [01:54<22:20,  2.27s/it]"
     ]
    },
    {
     "name": "stdout",
     "output_type": "stream",
     "text": [
      "Skipping due to missing jpg path: C:\\Users\\judoj\\Documents\\programming\\msdata\\data\\RGBMS_pretraining\\3M_uk_vineyard\\DJI_202407071107_001_DJISmartFarmWeb-pingwest1\\DJI_20240707111430_0047_D.JPG\n"
     ]
    },
    {
     "name": "stderr",
     "output_type": "stream",
     "text": [
      "  9%|███████▏                                                                         | 56/635 [02:09<13:30,  1.40s/it]"
     ]
    },
    {
     "name": "stdout",
     "output_type": "stream",
     "text": [
      "Skipping due to missing jpg path: C:\\Users\\judoj\\Documents\\programming\\msdata\\data\\RGBMS_pretraining\\3M_uk_vineyard\\DJI_202407071107_001_DJISmartFarmWeb-pingwest1\\DJI_20240707111452_0058_D.JPG\n"
     ]
    },
    {
     "name": "stderr",
     "output_type": "stream",
     "text": [
      " 10%|███████▉                                                                         | 62/635 [02:21<18:46,  1.97s/it]"
     ]
    },
    {
     "name": "stdout",
     "output_type": "stream",
     "text": [
      "Skipping due to missing jpg path: C:\\Users\\judoj\\Documents\\programming\\msdata\\data\\RGBMS_pretraining\\3M_uk_vineyard\\DJI_202407071107_001_DJISmartFarmWeb-pingwest1\\DJI_20240707111500_0062_D.JPG\n"
     ]
    },
    {
     "name": "stderr",
     "output_type": "stream",
     "text": [
      " 11%|████████▉                                                                        | 70/635 [02:34<15:09,  1.61s/it]"
     ]
    },
    {
     "name": "stdout",
     "output_type": "stream",
     "text": [
      "Skipping due to missing jpg path: C:\\Users\\judoj\\Documents\\programming\\msdata\\data\\RGBMS_pretraining\\3M_uk_vineyard\\DJI_202407071107_001_DJISmartFarmWeb-pingwest1\\DJI_20240707111516_0070_D.JPG\n"
     ]
    },
    {
     "name": "stderr",
     "output_type": "stream",
     "text": [
      " 11%|█████████                                                                        | 71/635 [02:36<14:36,  1.55s/it]"
     ]
    },
    {
     "name": "stdout",
     "output_type": "stream",
     "text": [
      "Skipping due to missing jpg path: C:\\Users\\judoj\\Documents\\programming\\msdata\\data\\RGBMS_pretraining\\3M_uk_vineyard\\DJI_202407071107_001_DJISmartFarmWeb-pingwest1\\DJI_20240707111518_0071_D.JPG\n"
     ]
    },
    {
     "name": "stderr",
     "output_type": "stream",
     "text": [
      " 31%|████████████████████████▍                                                       | 194/635 [06:05<12:23,  1.69s/it]"
     ]
    },
    {
     "name": "stdout",
     "output_type": "stream",
     "text": [
      "Skipping due to missing jpg path: C:\\Users\\judoj\\Documents\\programming\\msdata\\data\\RGBMS_pretraining\\3M_uk_vineyard\\DJI_202407071107_001_DJISmartFarmWeb-pingwest1\\DJI_20240707111931_0196_D.JPG\n"
     ]
    },
    {
     "name": "stderr",
     "output_type": "stream",
     "text": [
      " 32%|█████████████████████████▎                                                      | 201/635 [06:17<11:25,  1.58s/it]"
     ]
    },
    {
     "name": "stdout",
     "output_type": "stream",
     "text": [
      "Skipping due to missing jpg path: C:\\Users\\judoj\\Documents\\programming\\msdata\\data\\RGBMS_pretraining\\3M_uk_vineyard\\DJI_202407071107_001_DJISmartFarmWeb-pingwest1\\DJI_20240707111945_0203_D.JPG\n"
     ]
    },
    {
     "name": "stderr",
     "output_type": "stream",
     "text": [
      " 34%|███████████████████████████▎                                                    | 217/635 [06:46<12:42,  1.82s/it]"
     ]
    },
    {
     "name": "stdout",
     "output_type": "stream",
     "text": [
      "Skipping due to missing jpg path: C:\\Users\\judoj\\Documents\\programming\\msdata\\data\\RGBMS_pretraining\\3M_uk_vineyard\\DJI_202407071107_001_DJISmartFarmWeb-pingwest1\\DJI_20240707112019_0220_D.JPG\n"
     ]
    },
    {
     "name": "stderr",
     "output_type": "stream",
     "text": [
      " 44%|███████████████████████████████████▌                                            | 282/635 [08:44<12:12,  2.08s/it]"
     ]
    },
    {
     "name": "stdout",
     "output_type": "stream",
     "text": [
      "Skipping due to missing jpg path: C:\\Users\\judoj\\Documents\\programming\\msdata\\data\\RGBMS_pretraining\\3M_uk_vineyard\\DJI_202407071107_001_DJISmartFarmWeb-pingwest1\\DJI_20240707112230_0285_D.JPG\n"
     ]
    },
    {
     "name": "stderr",
     "output_type": "stream",
     "text": [
      " 46%|█████████████████████████████████████                                           | 294/635 [09:02<07:40,  1.35s/it]"
     ]
    },
    {
     "name": "stdout",
     "output_type": "stream",
     "text": [
      "Skipping due to missing jpg path: C:\\Users\\judoj\\Documents\\programming\\msdata\\data\\RGBMS_pretraining\\3M_uk_vineyard\\DJI_202407071107_001_DJISmartFarmWeb-pingwest1\\DJI_20240707112248_0294_D.JPG\n"
     ]
    },
    {
     "name": "stderr",
     "output_type": "stream",
     "text": [
      " 47%|█████████████████████████████████████▎                                          | 296/635 [09:08<11:43,  2.07s/it]"
     ]
    },
    {
     "name": "stdout",
     "output_type": "stream",
     "text": [
      "Skipping due to missing jpg path: C:\\Users\\judoj\\Documents\\programming\\msdata\\data\\RGBMS_pretraining\\3M_uk_vineyard\\DJI_202407071107_001_DJISmartFarmWeb-pingwest1\\DJI_20240707112256_0298_D.JPG\n"
     ]
    },
    {
     "name": "stderr",
     "output_type": "stream",
     "text": [
      " 48%|██████████████████████████████████████                                          | 302/635 [09:18<07:51,  1.42s/it]"
     ]
    },
    {
     "name": "stdout",
     "output_type": "stream",
     "text": [
      "Skipping due to missing jpg path: C:\\Users\\judoj\\Documents\\programming\\msdata\\data\\RGBMS_pretraining\\3M_uk_vineyard\\DJI_202407071107_001_DJISmartFarmWeb-pingwest1\\DJI_20240707112306_0303_D.JPG\n"
     ]
    },
    {
     "name": "stderr",
     "output_type": "stream",
     "text": [
      " 48%|██████████████████████████████████████▍                                         | 305/635 [09:24<09:14,  1.68s/it]"
     ]
    },
    {
     "name": "stdout",
     "output_type": "stream",
     "text": [
      "Skipping due to missing jpg path: C:\\Users\\judoj\\Documents\\programming\\msdata\\data\\RGBMS_pretraining\\3M_uk_vineyard\\DJI_202407071107_001_DJISmartFarmWeb-pingwest1\\DJI_20240707112310_0305_D.JPG\n"
     ]
    },
    {
     "name": "stderr",
     "output_type": "stream",
     "text": [
      " 49%|███████████████████████████████████████▎                                        | 312/635 [09:37<09:17,  1.73s/it]"
     ]
    },
    {
     "name": "stdout",
     "output_type": "stream",
     "text": [
      "Skipping due to missing jpg path: C:\\Users\\judoj\\Documents\\programming\\msdata\\data\\RGBMS_pretraining\\3M_uk_vineyard\\DJI_202407071107_001_DJISmartFarmWeb-pingwest1\\DJI_20240707112326_0313_D.JPG\n"
     ]
    },
    {
     "name": "stderr",
     "output_type": "stream",
     "text": [
      " 50%|███████████████████████████████████████▋                                        | 315/635 [09:44<11:52,  2.23s/it]"
     ]
    },
    {
     "name": "stdout",
     "output_type": "stream",
     "text": [
      "Skipping due to missing jpg path: C:\\Users\\judoj\\Documents\\programming\\msdata\\data\\RGBMS_pretraining\\3M_uk_vineyard\\DJI_202407071107_001_DJISmartFarmWeb-pingwest1\\DJI_20240707112330_0315_D.JPG\n"
     ]
    },
    {
     "name": "stderr",
     "output_type": "stream",
     "text": [
      " 50%|███████████████████████████████████████▊                                        | 316/635 [09:46<10:43,  2.02s/it]"
     ]
    },
    {
     "name": "stdout",
     "output_type": "stream",
     "text": [
      "Skipping due to missing jpg path: C:\\Users\\judoj\\Documents\\programming\\msdata\\data\\RGBMS_pretraining\\3M_uk_vineyard\\DJI_202407071107_001_DJISmartFarmWeb-pingwest1\\DJI_20240707112332_0316_D.JPG\n"
     ]
    },
    {
     "name": "stderr",
     "output_type": "stream",
     "text": [
      " 66%|████████████████████████████████████████████████████▋                           | 418/635 [12:57<04:36,  1.27s/it]"
     ]
    },
    {
     "name": "stdout",
     "output_type": "stream",
     "text": [
      "Skipping due to missing jpg path: C:\\Users\\judoj\\Documents\\programming\\msdata\\data\\RGBMS_pretraining\\3M_uk_vineyard\\DJI_202407071107_001_DJISmartFarmWeb-pingwest1\\DJI_20240707112657_0418_D.JPG\n"
     ]
    },
    {
     "name": "stderr",
     "output_type": "stream",
     "text": [
      " 67%|█████████████████████████████████████████████████████▎                          | 423/635 [13:08<06:10,  1.75s/it]"
     ]
    },
    {
     "name": "stdout",
     "output_type": "stream",
     "text": [
      "Skipping due to missing jpg path: C:\\Users\\judoj\\Documents\\programming\\msdata\\data\\RGBMS_pretraining\\3M_uk_vineyard\\DJI_202407071107_001_DJISmartFarmWeb-pingwest1\\DJI_20240707112711_0425_D.JPG\n",
      "Skipping due to missing jpg path: C:\\Users\\judoj\\Documents\\programming\\msdata\\data\\RGBMS_pretraining\\3M_uk_vineyard\\DJI_202407071107_001_DJISmartFarmWeb-pingwest1\\DJI_20240707112713_0426_D.JPG\n"
     ]
    },
    {
     "name": "stderr",
     "output_type": "stream",
     "text": [
      " 67%|█████████████████████████████████████████████████████▊                          | 427/635 [13:13<04:19,  1.25s/it]"
     ]
    },
    {
     "name": "stdout",
     "output_type": "stream",
     "text": [
      "Skipping due to missing jpg path: C:\\Users\\judoj\\Documents\\programming\\msdata\\data\\RGBMS_pretraining\\3M_uk_vineyard\\DJI_202407071107_001_DJISmartFarmWeb-pingwest1\\DJI_20240707112715_0427_D.JPG\n"
     ]
    },
    {
     "name": "stderr",
     "output_type": "stream",
     "text": [
      " 68%|██████████████████████████████████████████████████████                          | 429/635 [13:17<04:56,  1.44s/it]"
     ]
    },
    {
     "name": "stdout",
     "output_type": "stream",
     "text": [
      "Skipping due to missing jpg path: C:\\Users\\judoj\\Documents\\programming\\msdata\\data\\RGBMS_pretraining\\3M_uk_vineyard\\DJI_202407071107_001_DJISmartFarmWeb-pingwest1\\DJI_20240707112719_0429_D.JPG\n"
     ]
    },
    {
     "name": "stderr",
     "output_type": "stream",
     "text": [
      " 68%|██████████████████████████████████████████████████████▏                         | 430/635 [13:22<07:57,  2.33s/it]"
     ]
    },
    {
     "name": "stdout",
     "output_type": "stream",
     "text": [
      "Skipping due to missing jpg path: C:\\Users\\judoj\\Documents\\programming\\msdata\\data\\RGBMS_pretraining\\3M_uk_vineyard\\DJI_202407071107_001_DJISmartFarmWeb-pingwest1\\DJI_20240707112727_0433_D.JPG\n"
     ]
    },
    {
     "name": "stderr",
     "output_type": "stream",
     "text": [
      " 68%|██████████████████████████████████████████████████████▋                         | 434/635 [13:26<04:58,  1.49s/it]"
     ]
    },
    {
     "name": "stdout",
     "output_type": "stream",
     "text": [
      "Skipping due to missing jpg path: C:\\Users\\judoj\\Documents\\programming\\msdata\\data\\RGBMS_pretraining\\3M_uk_vineyard\\DJI_202407071107_001_DJISmartFarmWeb-pingwest1\\DJI_20240707112729_0434_D.JPG\n"
     ]
    },
    {
     "name": "stderr",
     "output_type": "stream",
     "text": [
      " 69%|██████████████████████████████████████████████████████▊                         | 435/635 [13:27<04:05,  1.23s/it]"
     ]
    },
    {
     "name": "stdout",
     "output_type": "stream",
     "text": [
      "Skipping due to missing jpg path: C:\\Users\\judoj\\Documents\\programming\\msdata\\data\\RGBMS_pretraining\\3M_uk_vineyard\\DJI_202407071107_001_DJISmartFarmWeb-pingwest1\\DJI_20240707112731_0435_D.JPG\n"
     ]
    },
    {
     "name": "stderr",
     "output_type": "stream",
     "text": [
      " 69%|██████████████████████████████████████████████████████▉                         | 436/635 [13:29<04:47,  1.45s/it]"
     ]
    },
    {
     "name": "stdout",
     "output_type": "stream",
     "text": [
      "Skipping due to missing jpg path: C:\\Users\\judoj\\Documents\\programming\\msdata\\data\\RGBMS_pretraining\\3M_uk_vineyard\\DJI_202407071107_001_DJISmartFarmWeb-pingwest1\\DJI_20240707112733_0436_D.JPG\n"
     ]
    },
    {
     "name": "stderr",
     "output_type": "stream",
     "text": [
      " 78%|██████████████████████████████████████████████████████████████▌                 | 497/635 [15:25<03:01,  1.32s/it]"
     ]
    },
    {
     "name": "stdout",
     "output_type": "stream",
     "text": [
      "Skipping due to missing jpg path: C:\\Users\\judoj\\Documents\\programming\\msdata\\data\\RGBMS_pretraining\\3M_uk_vineyard\\DJI_202407071107_001_DJISmartFarmWeb-pingwest1\\DJI_20240707112936_0497_D.JPG\n"
     ]
    },
    {
     "name": "stderr",
     "output_type": "stream",
     "text": [
      " 79%|███████████████████████████████████████████████████████████████▎                | 503/635 [15:38<03:53,  1.77s/it]"
     ]
    },
    {
     "name": "stdout",
     "output_type": "stream",
     "text": [
      "Skipping due to missing jpg path: C:\\Users\\judoj\\Documents\\programming\\msdata\\data\\RGBMS_pretraining\\3M_uk_vineyard\\DJI_202407071107_001_DJISmartFarmWeb-pingwest1\\DJI_20240707112952_0505_D.JPG\n"
     ]
    },
    {
     "name": "stderr",
     "output_type": "stream",
     "text": [
      " 80%|████████████████████████████████████████████████████████████████▎               | 510/635 [15:48<02:38,  1.27s/it]"
     ]
    },
    {
     "name": "stdout",
     "output_type": "stream",
     "text": [
      "Skipping due to missing jpg path: C:\\Users\\judoj\\Documents\\programming\\msdata\\data\\RGBMS_pretraining\\3M_uk_vineyard\\DJI_202407071107_001_DJISmartFarmWeb-pingwest1\\DJI_20240707113002_0510_D.JPG\n"
     ]
    },
    {
     "name": "stderr",
     "output_type": "stream",
     "text": [
      " 80%|████████████████████████████████████████████████████████████████▍               | 511/635 [15:50<02:58,  1.44s/it]"
     ]
    },
    {
     "name": "stdout",
     "output_type": "stream",
     "text": [
      "Skipping due to missing jpg path: C:\\Users\\judoj\\Documents\\programming\\msdata\\data\\RGBMS_pretraining\\3M_uk_vineyard\\DJI_202407071107_001_DJISmartFarmWeb-pingwest1\\DJI_20240707113004_0511_D.JPG\n"
     ]
    },
    {
     "name": "stderr",
     "output_type": "stream",
     "text": [
      " 81%|████████████████████████████████████████████████████████████████▊               | 514/635 [15:55<03:17,  1.63s/it]"
     ]
    },
    {
     "name": "stdout",
     "output_type": "stream",
     "text": [
      "Skipping due to missing jpg path: C:\\Users\\judoj\\Documents\\programming\\msdata\\data\\RGBMS_pretraining\\3M_uk_vineyard\\DJI_202407071107_001_DJISmartFarmWeb-pingwest1\\DJI_20240707113010_0514_D.JPG\n"
     ]
    },
    {
     "name": "stderr",
     "output_type": "stream",
     "text": [
      " 81%|█████████████████████████████████████████████████████████████████               | 516/635 [15:58<03:04,  1.55s/it]"
     ]
    },
    {
     "name": "stdout",
     "output_type": "stream",
     "text": [
      "Skipping due to missing jpg path: C:\\Users\\judoj\\Documents\\programming\\msdata\\data\\RGBMS_pretraining\\3M_uk_vineyard\\DJI_202407071107_001_DJISmartFarmWeb-pingwest1\\DJI_20240707113014_0516_D.JPG\n"
     ]
    },
    {
     "name": "stderr",
     "output_type": "stream",
     "text": [
      " 82%|█████████████████████████████████████████████████████████████████▍              | 519/635 [16:01<02:03,  1.07s/it]"
     ]
    },
    {
     "name": "stdout",
     "output_type": "stream",
     "text": [
      "Skipping due to missing jpg path: C:\\Users\\judoj\\Documents\\programming\\msdata\\data\\RGBMS_pretraining\\3M_uk_vineyard\\DJI_202407071107_001_DJISmartFarmWeb-pingwest1\\DJI_20240707113020_0519_D.JPG\n"
     ]
    },
    {
     "name": "stderr",
     "output_type": "stream",
     "text": [
      " 83%|██████████████████████████████████████████████████████████████████▏             | 525/635 [16:12<02:34,  1.40s/it]"
     ]
    },
    {
     "name": "stdout",
     "output_type": "stream",
     "text": [
      "Skipping due to missing jpg path: C:\\Users\\judoj\\Documents\\programming\\msdata\\data\\RGBMS_pretraining\\3M_uk_vineyard\\DJI_202407071107_001_DJISmartFarmWeb-pingwest1\\DJI_20240707113032_0525_D.JPG\n"
     ]
    },
    {
     "name": "stderr",
     "output_type": "stream",
     "text": [
      " 86%|████████████████████████████████████████████████████████████████████▊           | 546/635 [16:49<03:16,  2.21s/it]"
     ]
    },
    {
     "name": "stdout",
     "output_type": "stream",
     "text": [
      "Skipping due to missing jpg path: C:\\Users\\judoj\\Documents\\programming\\msdata\\data\\RGBMS_pretraining\\3M_uk_vineyard\\DJI_202407071107_001_DJISmartFarmWeb-pingwest1\\DJI_20240707113119_0548_D.JPG\n"
     ]
    },
    {
     "name": "stderr",
     "output_type": "stream",
     "text": [
      " 86%|█████████████████████████████████████████████████████████████████████▏          | 549/635 [16:52<02:03,  1.44s/it]"
     ]
    },
    {
     "name": "stdout",
     "output_type": "stream",
     "text": [
      "Skipping due to missing jpg path: C:\\Users\\judoj\\Documents\\programming\\msdata\\data\\RGBMS_pretraining\\3M_uk_vineyard\\DJI_202407071107_001_DJISmartFarmWeb-pingwest1\\DJI_20240707113121_0549_D.JPG\n"
     ]
    },
    {
     "name": "stderr",
     "output_type": "stream",
     "text": [
      " 87%|█████████████████████████████████████████████████████████████████████▉          | 555/635 [17:04<02:12,  1.65s/it]"
     ]
    },
    {
     "name": "stdout",
     "output_type": "stream",
     "text": [
      "Skipping due to missing jpg path: C:\\Users\\judoj\\Documents\\programming\\msdata\\data\\RGBMS_pretraining\\3M_uk_vineyard\\DJI_202407071107_001_DJISmartFarmWeb-pingwest1\\DJI_20240707113135_0556_D.JPG\n"
     ]
    },
    {
     "name": "stderr",
     "output_type": "stream",
     "text": [
      " 89%|██████████████████████████████████████████████████████████████████████▊         | 562/635 [17:15<01:58,  1.63s/it]"
     ]
    },
    {
     "name": "stdout",
     "output_type": "stream",
     "text": [
      "Skipping due to missing jpg path: C:\\Users\\judoj\\Documents\\programming\\msdata\\data\\RGBMS_pretraining\\3M_uk_vineyard\\DJI_202407071107_001_DJISmartFarmWeb-pingwest1\\DJI_20240707113147_0562_D.JPG\n"
     ]
    },
    {
     "name": "stderr",
     "output_type": "stream",
     "text": [
      " 89%|██████████████████████████████████████████████████████████████████████▉         | 563/635 [17:16<01:40,  1.40s/it]"
     ]
    },
    {
     "name": "stdout",
     "output_type": "stream",
     "text": [
      "Skipping due to missing jpg path: C:\\Users\\judoj\\Documents\\programming\\msdata\\data\\RGBMS_pretraining\\3M_uk_vineyard\\DJI_202407071107_001_DJISmartFarmWeb-pingwest1\\DJI_20240707113149_0563_D.JPG\n"
     ]
    },
    {
     "name": "stderr",
     "output_type": "stream",
     "text": [
      "100%|████████████████████████████████████████████████████████████████████████████████| 635/635 [19:13<00:00,  1.82s/it]"
     ]
    },
    {
     "name": "stdout",
     "output_type": "stream",
     "text": [
      "All images successfully processed.\n"
     ]
    },
    {
     "name": "stderr",
     "output_type": "stream",
     "text": [
      "\n"
     ]
    }
   ],
   "source": [
    "# Create a processed folder if it doesn't exist\n",
    "processed_dir = \"../../data/msrgb_processed/3m_uk_vineyard_west_july/\"\n",
    "os.makedirs(processed_dir, exist_ok=True)\n",
    "input_folder = \"../../data/RGBMS_pretraining/3M_uk_vineyard/DJI_202407071107_001_DJISmartFarmWeb-pingwest1\"\n",
    "process_directory(input_folder, processed_dir)"
   ]
  },
  {
   "cell_type": "code",
   "execution_count": 11,
   "id": "986a9143-d0c9-40ad-96db-a99e57baf1bf",
   "metadata": {},
   "outputs": [
    {
     "name": "stderr",
     "output_type": "stream",
     "text": [
      "C:\\Users\\judoj\\AppData\\Local\\Temp\\ipykernel_14752\\3794621238.py:343: DeprecationWarning: Testing an element's truth value will always return True in future versions.  Use specific 'len(elem)' or 'elem is not None' test instead.\n",
      "  if element:\n",
      "C:\\Users\\judoj\\AppData\\Local\\Temp\\ipykernel_14752\\3794621238.py:311: DeprecationWarning: Testing an element's truth value will always return True in future versions.  Use specific 'len(elem)' or 'elem is not None' test instead.\n",
      "  if element:\n",
      "  0%|▏                                                                               | 1/635 [00:44<7:51:06, 44.58s/it]"
     ]
    },
    {
     "name": "stdout",
     "output_type": "stream",
     "text": [
      "Skipping due to missing jpg path: C:\\Users\\judoj\\Documents\\programming\\msdata\\data\\RGBMS_pretraining\\3M_uk_vineyard\\DJI_202409011037_001_DJISmartFarmWeb-pingwest\\DJI_20240901104318_0001_D.JPG\n"
     ]
    },
    {
     "name": "stderr",
     "output_type": "stream",
     "text": [
      " 30%|███████████████████████▊                                                        | 189/635 [06:37<11:49,  1.59s/it]"
     ]
    },
    {
     "name": "stdout",
     "output_type": "stream",
     "text": [
      "Skipping due to missing jpg path: C:\\Users\\judoj\\Documents\\programming\\msdata\\data\\RGBMS_pretraining\\3M_uk_vineyard\\DJI_202409011037_001_DJISmartFarmWeb-pingwest\\DJI_20240901104944_0191_D.JPG\n"
     ]
    },
    {
     "name": "stderr",
     "output_type": "stream",
     "text": [
      " 35%|███████████████████████████▊                                                    | 221/635 [07:31<09:30,  1.38s/it]"
     ]
    },
    {
     "name": "stdout",
     "output_type": "stream",
     "text": [
      "Skipping due to missing jpg path: C:\\Users\\judoj\\Documents\\programming\\msdata\\data\\RGBMS_pretraining\\3M_uk_vineyard\\DJI_202409011037_001_DJISmartFarmWeb-pingwest\\DJI_20240901105045_0221_D.JPG\n",
      "Skipping due to missing jpg path: C:\\Users\\judoj\\Documents\\programming\\msdata\\data\\RGBMS_pretraining\\3M_uk_vineyard\\DJI_202409011037_001_DJISmartFarmWeb-pingwest\\DJI_20240901105049_0223_D.JPG\n"
     ]
    },
    {
     "name": "stderr",
     "output_type": "stream",
     "text": [
      " 35%|████████████████████████████▎                                                   | 225/635 [07:40<14:14,  2.09s/it]"
     ]
    },
    {
     "name": "stdout",
     "output_type": "stream",
     "text": [
      "Skipping due to missing jpg path: C:\\Users\\judoj\\Documents\\programming\\msdata\\data\\RGBMS_pretraining\\3M_uk_vineyard\\DJI_202409011037_001_DJISmartFarmWeb-pingwest\\DJI_20240901105057_0227_D.JPG\n"
     ]
    },
    {
     "name": "stderr",
     "output_type": "stream",
     "text": [
      " 36%|████████████████████████████▊                                                   | 229/635 [07:46<11:05,  1.64s/it]"
     ]
    },
    {
     "name": "stdout",
     "output_type": "stream",
     "text": [
      "Skipping due to missing jpg path: C:\\Users\\judoj\\Documents\\programming\\msdata\\data\\RGBMS_pretraining\\3M_uk_vineyard\\DJI_202409011037_001_DJISmartFarmWeb-pingwest\\DJI_20240901105105_0231_D.JPG\n"
     ]
    },
    {
     "name": "stderr",
     "output_type": "stream",
     "text": [
      " 37%|█████████████████████████████▎                                                  | 233/635 [07:55<16:24,  2.45s/it]"
     ]
    },
    {
     "name": "stdout",
     "output_type": "stream",
     "text": [
      "Skipping due to missing jpg path: C:\\Users\\judoj\\Documents\\programming\\msdata\\data\\RGBMS_pretraining\\3M_uk_vineyard\\DJI_202409011037_001_DJISmartFarmWeb-pingwest\\DJI_20240901105111_0234_D.JPG\n"
     ]
    },
    {
     "name": "stderr",
     "output_type": "stream",
     "text": [
      " 37%|█████████████████████████████▋                                                  | 236/635 [07:59<11:47,  1.77s/it]"
     ]
    },
    {
     "name": "stdout",
     "output_type": "stream",
     "text": [
      "Skipping due to missing jpg path: C:\\Users\\judoj\\Documents\\programming\\msdata\\data\\RGBMS_pretraining\\3M_uk_vineyard\\DJI_202409011037_001_DJISmartFarmWeb-pingwest\\DJI_20240901105115_0236_D.JPG\n",
      "Skipping due to missing jpg path: C:\\Users\\judoj\\Documents\\programming\\msdata\\data\\RGBMS_pretraining\\3M_uk_vineyard\\DJI_202409011037_001_DJISmartFarmWeb-pingwest\\DJI_20240901105121_0239_D.JPG\n",
      "Skipping due to missing jpg path: C:\\Users\\judoj\\Documents\\programming\\msdata\\data\\RGBMS_pretraining\\3M_uk_vineyard\\DJI_202409011037_001_DJISmartFarmWeb-pingwest\\DJI_20240901105119_0238_D.JPG\n"
     ]
    },
    {
     "name": "stderr",
     "output_type": "stream",
     "text": [
      " 39%|███████████████████████████████▏                                                | 248/635 [08:22<11:22,  1.76s/it]"
     ]
    },
    {
     "name": "stdout",
     "output_type": "stream",
     "text": [
      "Skipping due to missing jpg path: C:\\Users\\judoj\\Documents\\programming\\msdata\\data\\RGBMS_pretraining\\3M_uk_vineyard\\DJI_202409011037_001_DJISmartFarmWeb-pingwest\\DJI_20240901105143_0250_D.JPG\n"
     ]
    },
    {
     "name": "stderr",
     "output_type": "stream",
     "text": [
      " 40%|███████████████████████████████▊                                                | 253/635 [08:31<09:34,  1.50s/it]"
     ]
    },
    {
     "name": "stdout",
     "output_type": "stream",
     "text": [
      "Skipping due to missing jpg path: C:\\Users\\judoj\\Documents\\programming\\msdata\\data\\RGBMS_pretraining\\3M_uk_vineyard\\DJI_202409011037_001_DJISmartFarmWeb-pingwest\\DJI_20240901105149_0253_D.JPG\n"
     ]
    },
    {
     "name": "stderr",
     "output_type": "stream",
     "text": [
      " 40%|████████████████████████████████▎                                               | 256/635 [08:35<09:46,  1.55s/it]"
     ]
    },
    {
     "name": "stdout",
     "output_type": "stream",
     "text": [
      "Skipping due to missing jpg path: C:\\Users\\judoj\\Documents\\programming\\msdata\\data\\RGBMS_pretraining\\3M_uk_vineyard\\DJI_202409011037_001_DJISmartFarmWeb-pingwest\\DJI_20240901105159_0258_D.JPG\n"
     ]
    },
    {
     "name": "stderr",
     "output_type": "stream",
     "text": [
      " 40%|████████████████████████████████▍                                               | 257/635 [08:40<16:00,  2.54s/it]"
     ]
    },
    {
     "name": "stdout",
     "output_type": "stream",
     "text": [
      "Skipping due to missing jpg path: C:\\Users\\judoj\\Documents\\programming\\msdata\\data\\RGBMS_pretraining\\3M_uk_vineyard\\DJI_202409011037_001_DJISmartFarmWeb-pingwest\\DJI_20240901105205_0261_D.JPG\n"
     ]
    },
    {
     "name": "stderr",
     "output_type": "stream",
     "text": [
      " 41%|█████████████████████████████████                                               | 262/635 [08:46<08:50,  1.42s/it]"
     ]
    },
    {
     "name": "stdout",
     "output_type": "stream",
     "text": [
      "Skipping due to missing jpg path: C:\\Users\\judoj\\Documents\\programming\\msdata\\data\\RGBMS_pretraining\\3M_uk_vineyard\\DJI_202409011037_001_DJISmartFarmWeb-pingwest\\DJI_20240901105207_0262_D.JPG\n",
      "Skipping due to missing jpg path: C:\\Users\\judoj\\Documents\\programming\\msdata\\data\\RGBMS_pretraining\\3M_uk_vineyard\\DJI_202409011037_001_DJISmartFarmWeb-pingwest\\DJI_20240901105209_0263_D.JPG\n"
     ]
    },
    {
     "name": "stderr",
     "output_type": "stream",
     "text": [
      " 42%|█████████████████████████████████▋                                              | 267/635 [08:55<10:51,  1.77s/it]"
     ]
    },
    {
     "name": "stdout",
     "output_type": "stream",
     "text": [
      "Skipping due to missing jpg path: C:\\Users\\judoj\\Documents\\programming\\msdata\\data\\RGBMS_pretraining\\3M_uk_vineyard\\DJI_202409011037_001_DJISmartFarmWeb-pingwest\\DJI_20240901105217_0267_D.JPG\n",
      "Skipping due to missing jpg path: C:\\Users\\judoj\\Documents\\programming\\msdata\\data\\RGBMS_pretraining\\3M_uk_vineyard\\DJI_202409011037_001_DJISmartFarmWeb-pingwest\\DJI_20240901105221_0269_D.JPG\n"
     ]
    },
    {
     "name": "stderr",
     "output_type": "stream",
     "text": [
      " 43%|██████████████████████████████████                                              | 270/635 [08:59<08:30,  1.40s/it]"
     ]
    },
    {
     "name": "stdout",
     "output_type": "stream",
     "text": [
      "Skipping due to missing jpg path: C:\\Users\\judoj\\Documents\\programming\\msdata\\data\\RGBMS_pretraining\\3M_uk_vineyard\\DJI_202409011037_001_DJISmartFarmWeb-pingwest\\DJI_20240901105223_0270_D.JPG\n"
     ]
    },
    {
     "name": "stderr",
     "output_type": "stream",
     "text": [
      " 43%|██████████████████████████████████▎                                             | 272/635 [09:02<07:39,  1.27s/it]"
     ]
    },
    {
     "name": "stdout",
     "output_type": "stream",
     "text": [
      "Skipping due to missing jpg path: C:\\Users\\judoj\\Documents\\programming\\msdata\\data\\RGBMS_pretraining\\3M_uk_vineyard\\DJI_202409011037_001_DJISmartFarmWeb-pingwest\\DJI_20240901105227_0272_D.JPG\n"
     ]
    },
    {
     "name": "stderr",
     "output_type": "stream",
     "text": [
      " 51%|████████████████████████████████████████▉                                       | 325/635 [10:46<08:49,  1.71s/it]"
     ]
    },
    {
     "name": "stdout",
     "output_type": "stream",
     "text": [
      "Skipping due to missing jpg path: C:\\Users\\judoj\\Documents\\programming\\msdata\\data\\RGBMS_pretraining\\3M_uk_vineyard\\DJI_202409011037_001_DJISmartFarmWeb-pingwest\\DJI_20240901105418_0327_D.JPG\n"
     ]
    },
    {
     "name": "stderr",
     "output_type": "stream",
     "text": [
      " 52%|█████████████████████████████████████████▌                                      | 330/635 [10:56<11:14,  2.21s/it]"
     ]
    },
    {
     "name": "stdout",
     "output_type": "stream",
     "text": [
      "Skipping due to missing jpg path: C:\\Users\\judoj\\Documents\\programming\\msdata\\data\\RGBMS_pretraining\\3M_uk_vineyard\\DJI_202409011037_001_DJISmartFarmWeb-pingwest\\DJI_20240901105424_0330_D.JPG\n"
     ]
    },
    {
     "name": "stderr",
     "output_type": "stream",
     "text": [
      " 70%|████████████████████████████████████████████████████████▎                       | 447/635 [14:51<06:18,  2.01s/it]"
     ]
    },
    {
     "name": "stdout",
     "output_type": "stream",
     "text": [
      "Skipping due to missing jpg path: C:\\Users\\judoj\\Documents\\programming\\msdata\\data\\RGBMS_pretraining\\3M_uk_vineyard\\DJI_202409011037_001_DJISmartFarmWeb-pingwest\\DJI_20240901105823_0449_D.JPG\n"
     ]
    },
    {
     "name": "stderr",
     "output_type": "stream",
     "text": [
      " 71%|█████████████████████████████████████████████████████████▏                      | 454/635 [15:02<04:24,  1.46s/it]"
     ]
    },
    {
     "name": "stdout",
     "output_type": "stream",
     "text": [
      "Skipping due to missing jpg path: C:\\Users\\judoj\\Documents\\programming\\msdata\\data\\RGBMS_pretraining\\3M_uk_vineyard\\DJI_202409011037_001_DJISmartFarmWeb-pingwest\\DJI_20240901105833_0454_D.JPG\n"
     ]
    },
    {
     "name": "stderr",
     "output_type": "stream",
     "text": [
      " 78%|██████████████████████████████████████████████████████████████▎                 | 495/635 [16:21<04:11,  1.80s/it]"
     ]
    },
    {
     "name": "stdout",
     "output_type": "stream",
     "text": [
      "Skipping due to missing jpg path: C:\\Users\\judoj\\Documents\\programming\\msdata\\data\\RGBMS_pretraining\\3M_uk_vineyard\\DJI_202409011037_001_DJISmartFarmWeb-pingwest\\DJI_20240901105959_0497_D.JPG\n"
     ]
    },
    {
     "name": "stderr",
     "output_type": "stream",
     "text": [
      " 78%|██████████████████████████████████████████████████████████████▋                 | 498/635 [16:26<03:40,  1.61s/it]"
     ]
    },
    {
     "name": "stdout",
     "output_type": "stream",
     "text": [
      "Skipping due to missing jpg path: C:\\Users\\judoj\\Documents\\programming\\msdata\\data\\RGBMS_pretraining\\3M_uk_vineyard\\DJI_202409011037_001_DJISmartFarmWeb-pingwest\\DJI_20240901110001_0498_D.JPG\n"
     ]
    },
    {
     "name": "stderr",
     "output_type": "stream",
     "text": [
      " 79%|███████████████████████████████████████████████████████████████                 | 501/635 [16:33<03:52,  1.74s/it]"
     ]
    },
    {
     "name": "stdout",
     "output_type": "stream",
     "text": [
      "Skipping due to missing jpg path: C:\\Users\\judoj\\Documents\\programming\\msdata\\data\\RGBMS_pretraining\\3M_uk_vineyard\\DJI_202409011037_001_DJISmartFarmWeb-pingwest\\DJI_20240901110007_0501_D.JPG\n"
     ]
    },
    {
     "name": "stderr",
     "output_type": "stream",
     "text": [
      " 79%|███████████████████████████████████████████████████████████████▏                | 502/635 [16:33<03:00,  1.36s/it]"
     ]
    },
    {
     "name": "stdout",
     "output_type": "stream",
     "text": [
      "Skipping due to missing jpg path: C:\\Users\\judoj\\Documents\\programming\\msdata\\data\\RGBMS_pretraining\\3M_uk_vineyard\\DJI_202409011037_001_DJISmartFarmWeb-pingwest\\DJI_20240901110009_0502_D.JPG\n"
     ]
    },
    {
     "name": "stderr",
     "output_type": "stream",
     "text": [
      " 79%|███████████████████████████████████████████████████████████████▎                | 503/635 [16:35<03:16,  1.49s/it]"
     ]
    },
    {
     "name": "stdout",
     "output_type": "stream",
     "text": [
      "Skipping due to missing jpg path: C:\\Users\\judoj\\Documents\\programming\\msdata\\data\\RGBMS_pretraining\\3M_uk_vineyard\\DJI_202409011037_001_DJISmartFarmWeb-pingwest\\DJI_20240901110011_0503_D.JPG\n"
     ]
    },
    {
     "name": "stderr",
     "output_type": "stream",
     "text": [
      " 79%|███████████████████████████████████████████████████████████████▍                | 504/635 [16:39<04:47,  2.19s/it]"
     ]
    },
    {
     "name": "stdout",
     "output_type": "stream",
     "text": [
      "Skipping due to missing jpg path: C:\\Users\\judoj\\Documents\\programming\\msdata\\data\\RGBMS_pretraining\\3M_uk_vineyard\\DJI_202409011037_001_DJISmartFarmWeb-pingwest\\DJI_20240901110013_0504_D.JPG\n"
     ]
    },
    {
     "name": "stderr",
     "output_type": "stream",
     "text": [
      " 80%|███████████████████████████████████████████████████████████████▋                | 506/635 [16:42<03:49,  1.78s/it]"
     ]
    },
    {
     "name": "stdout",
     "output_type": "stream",
     "text": [
      "Skipping due to missing jpg path: C:\\Users\\judoj\\Documents\\programming\\msdata\\data\\RGBMS_pretraining\\3M_uk_vineyard\\DJI_202409011037_001_DJISmartFarmWeb-pingwest\\DJI_20240901110021_0508_D.JPG\n"
     ]
    },
    {
     "name": "stderr",
     "output_type": "stream",
     "text": [
      " 80%|████████████████████████████████████████████████████████████████▏               | 509/635 [16:48<03:45,  1.79s/it]"
     ]
    },
    {
     "name": "stdout",
     "output_type": "stream",
     "text": [
      "Skipping due to missing jpg path: C:\\Users\\judoj\\Documents\\programming\\msdata\\data\\RGBMS_pretraining\\3M_uk_vineyard\\DJI_202409011037_001_DJISmartFarmWeb-pingwest\\DJI_20240901110027_0511_D.JPG\n"
     ]
    },
    {
     "name": "stderr",
     "output_type": "stream",
     "text": [
      " 81%|████████████████████████████████████████████████████████████████▌               | 512/635 [16:53<03:29,  1.71s/it]"
     ]
    },
    {
     "name": "stdout",
     "output_type": "stream",
     "text": [
      "Skipping due to missing jpg path: C:\\Users\\judoj\\Documents\\programming\\msdata\\data\\RGBMS_pretraining\\3M_uk_vineyard\\DJI_202409011037_001_DJISmartFarmWeb-pingwest\\DJI_20240901110029_0512_D.JPG\n"
     ]
    },
    {
     "name": "stderr",
     "output_type": "stream",
     "text": [
      " 81%|████████████████████████████████████████████████████████████████▋               | 513/635 [16:55<03:43,  1.83s/it]"
     ]
    },
    {
     "name": "stdout",
     "output_type": "stream",
     "text": [
      "Skipping due to missing jpg path: C:\\Users\\judoj\\Documents\\programming\\msdata\\data\\RGBMS_pretraining\\3M_uk_vineyard\\DJI_202409011037_001_DJISmartFarmWeb-pingwest\\DJI_20240901110031_0513_D.JPG\n"
     ]
    },
    {
     "name": "stderr",
     "output_type": "stream",
     "text": [
      "100%|████████████████████████████████████████████████████████████████████████████████| 635/635 [20:21<00:00,  1.92s/it]"
     ]
    },
    {
     "name": "stdout",
     "output_type": "stream",
     "text": [
      "All images successfully processed.\n"
     ]
    },
    {
     "name": "stderr",
     "output_type": "stream",
     "text": [
      "\n"
     ]
    }
   ],
   "source": [
    "# Create a processed folder if it doesn't exist\n",
    "processed_dir = \"../../data/msrgb_processed/3m_uk_vineyard_west_sept/\"\n",
    "os.makedirs(processed_dir, exist_ok=True)\n",
    "input_folder = \"../../data/RGBMS_pretraining/3M_uk_vineyard/DJI_202409011037_001_DJISmartFarmWeb-pingwest\"\n",
    "process_directory(input_folder, processed_dir)"
   ]
  },
  {
   "cell_type": "code",
   "execution_count": 12,
   "id": "176a2f9a-a608-4243-8142-97b750a9434d",
   "metadata": {
    "scrolled": true
   },
   "outputs": [
    {
     "name": "stderr",
     "output_type": "stream",
     "text": [
      "C:\\Users\\judoj\\AppData\\Local\\Temp\\ipykernel_14752\\3794621238.py:343: DeprecationWarning: Testing an element's truth value will always return True in future versions.  Use specific 'len(elem)' or 'elem is not None' test instead.\n",
      "  if element:\n",
      "C:\\Users\\judoj\\AppData\\Local\\Temp\\ipykernel_14752\\3794621238.py:311: DeprecationWarning: Testing an element's truth value will always return True in future versions.  Use specific 'len(elem)' or 'elem is not None' test instead.\n",
      "  if element:\n",
      "  1%|▉                                                                                 | 3/262 [00:15<16:43,  3.88s/it]"
     ]
    },
    {
     "name": "stdout",
     "output_type": "stream",
     "text": [
      "Skipping due to missing jpg path: C:\\Users\\judoj\\Documents\\programming\\msdata\\data\\RGBMS_pretraining\\3M_uk_vineyard\\DJI_202407141047_003_DJISmartFarmWeb-pingeast\\DJI_20240714105122_0003_D.JPG\n"
     ]
    },
    {
     "name": "stderr",
     "output_type": "stream",
     "text": [
      " 18%|██████████████▌                                                                  | 47/262 [01:31<05:00,  1.40s/it]"
     ]
    },
    {
     "name": "stdout",
     "output_type": "stream",
     "text": [
      "Skipping due to missing jpg path: C:\\Users\\judoj\\Documents\\programming\\msdata\\data\\RGBMS_pretraining\\3M_uk_vineyard\\DJI_202407141047_003_DJISmartFarmWeb-pingeast\\DJI_20240714105300_0047_D.JPG\n"
     ]
    },
    {
     "name": "stderr",
     "output_type": "stream",
     "text": [
      " 22%|█████████████████▉                                                               | 58/262 [01:50<04:34,  1.34s/it]"
     ]
    },
    {
     "name": "stdout",
     "output_type": "stream",
     "text": [
      "Skipping due to missing jpg path: C:\\Users\\judoj\\Documents\\programming\\msdata\\data\\RGBMS_pretraining\\3M_uk_vineyard\\DJI_202407141047_003_DJISmartFarmWeb-pingeast\\DJI_20240714105329_0060_D.JPG\n"
     ]
    },
    {
     "name": "stderr",
     "output_type": "stream",
     "text": [
      " 36%|█████████████████████████████▎                                                   | 95/262 [02:59<05:19,  1.91s/it]"
     ]
    },
    {
     "name": "stdout",
     "output_type": "stream",
     "text": [
      "Skipping due to missing jpg path: C:\\Users\\judoj\\Documents\\programming\\msdata\\data\\RGBMS_pretraining\\3M_uk_vineyard\\DJI_202407141047_003_DJISmartFarmWeb-pingeast\\DJI_20240714105447_0095_D.JPG\n"
     ]
    },
    {
     "name": "stderr",
     "output_type": "stream",
     "text": [
      " 57%|█████████████████████████████████████████████▊                                  | 150/262 [04:34<03:10,  1.71s/it]"
     ]
    },
    {
     "name": "stdout",
     "output_type": "stream",
     "text": [
      "Skipping due to missing jpg path: C:\\Users\\judoj\\Documents\\programming\\msdata\\data\\RGBMS_pretraining\\3M_uk_vineyard\\DJI_202407141047_003_DJISmartFarmWeb-pingeast\\DJI_20240714105654_0152_D.JPG\n"
     ]
    },
    {
     "name": "stderr",
     "output_type": "stream",
     "text": [
      " 80%|███████████████████████████████████████████████████████████████▊                | 209/262 [06:16<01:26,  1.63s/it]"
     ]
    },
    {
     "name": "stdout",
     "output_type": "stream",
     "text": [
      "Skipping due to missing jpg path: C:\\Users\\judoj\\Documents\\programming\\msdata\\data\\RGBMS_pretraining\\3M_uk_vineyard\\DJI_202407141047_003_DJISmartFarmWeb-pingeast\\DJI_20240714105901_0209_D.JPG\n"
     ]
    },
    {
     "name": "stderr",
     "output_type": "stream",
     "text": [
      " 84%|███████████████████████████████████████████████████████████████████▏            | 220/262 [06:37<01:05,  1.57s/it]"
     ]
    },
    {
     "name": "stdout",
     "output_type": "stream",
     "text": [
      "Skipping due to missing jpg path: C:\\Users\\judoj\\Documents\\programming\\msdata\\data\\RGBMS_pretraining\\3M_uk_vineyard\\DJI_202407141047_003_DJISmartFarmWeb-pingeast\\DJI_20240714105930_0222_D.JPG\n"
     ]
    },
    {
     "name": "stderr",
     "output_type": "stream",
     "text": [
      "100%|████████████████████████████████████████████████████████████████████████████████| 262/262 [07:43<00:00,  1.77s/it]"
     ]
    },
    {
     "name": "stdout",
     "output_type": "stream",
     "text": [
      "All images successfully processed.\n"
     ]
    },
    {
     "name": "stderr",
     "output_type": "stream",
     "text": [
      "\n"
     ]
    }
   ],
   "source": [
    "# Create a processed folder if it doesn't exist\n",
    "processed_dir = \"../../data/msrgb_processed/3m_uk_vineyard_east_july/\"\n",
    "os.makedirs(processed_dir, exist_ok=True)\n",
    "input_folder = \"../../data/RGBMS_pretraining/3M_uk_vineyard/DJI_202407141047_003_DJISmartFarmWeb-pingeast\"\n",
    "process_directory(input_folder, processed_dir)"
   ]
  },
  {
   "cell_type": "code",
   "execution_count": 13,
   "id": "d476fe62-bf0c-4157-895b-d48bc7b130da",
   "metadata": {},
   "outputs": [
    {
     "name": "stderr",
     "output_type": "stream",
     "text": [
      "C:\\Users\\judoj\\AppData\\Local\\Temp\\ipykernel_14752\\3794621238.py:343: DeprecationWarning: Testing an element's truth value will always return True in future versions.  Use specific 'len(elem)' or 'elem is not None' test instead.\n",
      "  if element:\n",
      "C:\\Users\\judoj\\AppData\\Local\\Temp\\ipykernel_14752\\3794621238.py:311: DeprecationWarning: Testing an element's truth value will always return True in future versions.  Use specific 'len(elem)' or 'elem is not None' test instead.\n",
      "  if element:\n",
      "  0%|                                                                                | 1/963 [00:25<6:52:41, 25.74s/it]"
     ]
    },
    {
     "name": "stdout",
     "output_type": "stream",
     "text": [
      "Skipping due to missing jpg path: C:\\Users\\judoj\\Documents\\programming\\msdata\\data\\RGBMS_pretraining\\3M_uk_vineyard\\June East\\DJI_20240602115949_0003_D.JPG\n"
     ]
    },
    {
     "name": "stderr",
     "output_type": "stream",
     "text": [
      "  1%|▍                                                                               | 5/963 [00:43<2:19:06,  8.71s/it]\n"
     ]
    },
    {
     "name": "stdout",
     "output_type": "stream",
     "text": [
      "Skipping due to missing jpg path: C:\\Users\\judoj\\Documents\\programming\\msdata\\data\\RGBMS_pretraining\\3M_uk_vineyard\\June East\\DJI_20240602120034_0020_D.JPG\n"
     ]
    },
    {
     "ename": "ValueError",
     "evalue": "not enough values to unpack (expected 2, got 1)",
     "output_type": "error",
     "traceback": [
      "\u001b[1;31m---------------------------------------------------------------------------\u001b[0m",
      "\u001b[1;31mValueError\u001b[0m                                Traceback (most recent call last)",
      "Cell \u001b[1;32mIn[13], line 5\u001b[0m\n\u001b[0;32m      3\u001b[0m os\u001b[38;5;241m.\u001b[39mmakedirs(processed_dir, exist_ok\u001b[38;5;241m=\u001b[39m\u001b[38;5;28;01mTrue\u001b[39;00m)\n\u001b[0;32m      4\u001b[0m input_folder \u001b[38;5;241m=\u001b[39m \u001b[38;5;124m\"\u001b[39m\u001b[38;5;124m../../data/RGBMS_pretraining/3M_uk_vineyard/June East/\u001b[39m\u001b[38;5;124m\"\u001b[39m\n\u001b[1;32m----> 5\u001b[0m \u001b[43mprocess_directory\u001b[49m\u001b[43m(\u001b[49m\u001b[43minput_folder\u001b[49m\u001b[43m,\u001b[49m\u001b[43m \u001b[49m\u001b[43mprocessed_dir\u001b[49m\u001b[43m)\u001b[49m\n",
      "Cell \u001b[1;32mIn[8], line 302\u001b[0m, in \u001b[0;36mprocess_directory\u001b[1;34m(input_dir, output_directory)\u001b[0m\n\u001b[0;32m    300\u001b[0m \u001b[38;5;66;03m# Process sets of 4 multispectral images in parallel with a progress bar\u001b[39;00m\n\u001b[0;32m    301\u001b[0m \u001b[38;5;28;01mwith\u001b[39;00m ThreadPoolExecutor(max_workers\u001b[38;5;241m=\u001b[39mn_threads) \u001b[38;5;28;01mas\u001b[39;00m executor:\n\u001b[1;32m--> 302\u001b[0m     \u001b[38;5;28;43mlist\u001b[39;49m\u001b[43m(\u001b[49m\u001b[43mtqdm\u001b[49m\u001b[43m(\u001b[49m\u001b[43mexecutor\u001b[49m\u001b[38;5;241;43m.\u001b[39;49m\u001b[43mmap\u001b[49m\u001b[43m(\u001b[49m\u001b[43mprocess_multispec_set\u001b[49m\u001b[43m,\u001b[49m\u001b[43m \u001b[49m\u001b[43mgreen_images\u001b[49m\u001b[43m,\u001b[49m\u001b[43m \u001b[49m\u001b[43mrepeat\u001b[49m\u001b[43m(\u001b[49m\u001b[43moutput_directory\u001b[49m\u001b[43m)\u001b[49m\u001b[43m)\u001b[49m\u001b[43m,\u001b[49m\u001b[43m \u001b[49m\u001b[43mtotal\u001b[49m\u001b[38;5;241;43m=\u001b[39;49m\u001b[38;5;28;43mlen\u001b[39;49m\u001b[43m(\u001b[49m\u001b[43mgreen_images\u001b[49m\u001b[43m)\u001b[49m\u001b[43m)\u001b[49m\u001b[43m)\u001b[49m\n\u001b[0;32m    304\u001b[0m \u001b[38;5;28mprint\u001b[39m(\u001b[38;5;124m\"\u001b[39m\u001b[38;5;124mAll images successfully processed.\u001b[39m\u001b[38;5;124m\"\u001b[39m)\n",
      "File \u001b[1;32m~\\mambaforge\\envs\\msdata\\Lib\\site-packages\\tqdm\\std.py:1181\u001b[0m, in \u001b[0;36mtqdm.__iter__\u001b[1;34m(self)\u001b[0m\n\u001b[0;32m   1178\u001b[0m time \u001b[38;5;241m=\u001b[39m \u001b[38;5;28mself\u001b[39m\u001b[38;5;241m.\u001b[39m_time\n\u001b[0;32m   1180\u001b[0m \u001b[38;5;28;01mtry\u001b[39;00m:\n\u001b[1;32m-> 1181\u001b[0m \u001b[43m    \u001b[49m\u001b[38;5;28;43;01mfor\u001b[39;49;00m\u001b[43m \u001b[49m\u001b[43mobj\u001b[49m\u001b[43m \u001b[49m\u001b[38;5;129;43;01min\u001b[39;49;00m\u001b[43m \u001b[49m\u001b[43miterable\u001b[49m\u001b[43m:\u001b[49m\n\u001b[0;32m   1182\u001b[0m \u001b[43m        \u001b[49m\u001b[38;5;28;43;01myield\u001b[39;49;00m\u001b[43m \u001b[49m\u001b[43mobj\u001b[49m\n\u001b[0;32m   1183\u001b[0m \u001b[43m        \u001b[49m\u001b[38;5;66;43;03m# Update and possibly print the progressbar.\u001b[39;49;00m\n\u001b[0;32m   1184\u001b[0m \u001b[43m        \u001b[49m\u001b[38;5;66;43;03m# Note: does not call self.update(1) for speed optimisation.\u001b[39;49;00m\n",
      "File \u001b[1;32m~\\mambaforge\\envs\\msdata\\Lib\\concurrent\\futures\\_base.py:619\u001b[0m, in \u001b[0;36mExecutor.map.<locals>.result_iterator\u001b[1;34m()\u001b[0m\n\u001b[0;32m    616\u001b[0m \u001b[38;5;28;01mwhile\u001b[39;00m fs:\n\u001b[0;32m    617\u001b[0m     \u001b[38;5;66;03m# Careful not to keep a reference to the popped future\u001b[39;00m\n\u001b[0;32m    618\u001b[0m     \u001b[38;5;28;01mif\u001b[39;00m timeout \u001b[38;5;129;01mis\u001b[39;00m \u001b[38;5;28;01mNone\u001b[39;00m:\n\u001b[1;32m--> 619\u001b[0m         \u001b[38;5;28;01myield\u001b[39;00m \u001b[43m_result_or_cancel\u001b[49m\u001b[43m(\u001b[49m\u001b[43mfs\u001b[49m\u001b[38;5;241;43m.\u001b[39;49m\u001b[43mpop\u001b[49m\u001b[43m(\u001b[49m\u001b[43m)\u001b[49m\u001b[43m)\u001b[49m\n\u001b[0;32m    620\u001b[0m     \u001b[38;5;28;01melse\u001b[39;00m:\n\u001b[0;32m    621\u001b[0m         \u001b[38;5;28;01myield\u001b[39;00m _result_or_cancel(fs\u001b[38;5;241m.\u001b[39mpop(), end_time \u001b[38;5;241m-\u001b[39m time\u001b[38;5;241m.\u001b[39mmonotonic())\n",
      "File \u001b[1;32m~\\mambaforge\\envs\\msdata\\Lib\\concurrent\\futures\\_base.py:317\u001b[0m, in \u001b[0;36m_result_or_cancel\u001b[1;34m(***failed resolving arguments***)\u001b[0m\n\u001b[0;32m    315\u001b[0m \u001b[38;5;28;01mtry\u001b[39;00m:\n\u001b[0;32m    316\u001b[0m     \u001b[38;5;28;01mtry\u001b[39;00m:\n\u001b[1;32m--> 317\u001b[0m         \u001b[38;5;28;01mreturn\u001b[39;00m \u001b[43mfut\u001b[49m\u001b[38;5;241;43m.\u001b[39;49m\u001b[43mresult\u001b[49m\u001b[43m(\u001b[49m\u001b[43mtimeout\u001b[49m\u001b[43m)\u001b[49m\n\u001b[0;32m    318\u001b[0m     \u001b[38;5;28;01mfinally\u001b[39;00m:\n\u001b[0;32m    319\u001b[0m         fut\u001b[38;5;241m.\u001b[39mcancel()\n",
      "File \u001b[1;32m~\\mambaforge\\envs\\msdata\\Lib\\concurrent\\futures\\_base.py:449\u001b[0m, in \u001b[0;36mFuture.result\u001b[1;34m(self, timeout)\u001b[0m\n\u001b[0;32m    447\u001b[0m     \u001b[38;5;28;01mraise\u001b[39;00m CancelledError()\n\u001b[0;32m    448\u001b[0m \u001b[38;5;28;01melif\u001b[39;00m \u001b[38;5;28mself\u001b[39m\u001b[38;5;241m.\u001b[39m_state \u001b[38;5;241m==\u001b[39m FINISHED:\n\u001b[1;32m--> 449\u001b[0m     \u001b[38;5;28;01mreturn\u001b[39;00m \u001b[38;5;28;43mself\u001b[39;49m\u001b[38;5;241;43m.\u001b[39;49m\u001b[43m__get_result\u001b[49m\u001b[43m(\u001b[49m\u001b[43m)\u001b[49m\n\u001b[0;32m    451\u001b[0m \u001b[38;5;28mself\u001b[39m\u001b[38;5;241m.\u001b[39m_condition\u001b[38;5;241m.\u001b[39mwait(timeout)\n\u001b[0;32m    453\u001b[0m \u001b[38;5;28;01mif\u001b[39;00m \u001b[38;5;28mself\u001b[39m\u001b[38;5;241m.\u001b[39m_state \u001b[38;5;129;01min\u001b[39;00m [CANCELLED, CANCELLED_AND_NOTIFIED]:\n",
      "File \u001b[1;32m~\\mambaforge\\envs\\msdata\\Lib\\concurrent\\futures\\_base.py:401\u001b[0m, in \u001b[0;36mFuture.__get_result\u001b[1;34m(self)\u001b[0m\n\u001b[0;32m    399\u001b[0m \u001b[38;5;28;01mif\u001b[39;00m \u001b[38;5;28mself\u001b[39m\u001b[38;5;241m.\u001b[39m_exception:\n\u001b[0;32m    400\u001b[0m     \u001b[38;5;28;01mtry\u001b[39;00m:\n\u001b[1;32m--> 401\u001b[0m         \u001b[38;5;28;01mraise\u001b[39;00m \u001b[38;5;28mself\u001b[39m\u001b[38;5;241m.\u001b[39m_exception\n\u001b[0;32m    402\u001b[0m     \u001b[38;5;28;01mfinally\u001b[39;00m:\n\u001b[0;32m    403\u001b[0m         \u001b[38;5;66;03m# Break a reference cycle with the exception in self._exception\u001b[39;00m\n\u001b[0;32m    404\u001b[0m         \u001b[38;5;28mself\u001b[39m \u001b[38;5;241m=\u001b[39m \u001b[38;5;28;01mNone\u001b[39;00m\n",
      "File \u001b[1;32m~\\mambaforge\\envs\\msdata\\Lib\\concurrent\\futures\\thread.py:59\u001b[0m, in \u001b[0;36m_WorkItem.run\u001b[1;34m(self)\u001b[0m\n\u001b[0;32m     56\u001b[0m     \u001b[38;5;28;01mreturn\u001b[39;00m\n\u001b[0;32m     58\u001b[0m \u001b[38;5;28;01mtry\u001b[39;00m:\n\u001b[1;32m---> 59\u001b[0m     result \u001b[38;5;241m=\u001b[39m \u001b[38;5;28;43mself\u001b[39;49m\u001b[38;5;241;43m.\u001b[39;49m\u001b[43mfn\u001b[49m\u001b[43m(\u001b[49m\u001b[38;5;241;43m*\u001b[39;49m\u001b[38;5;28;43mself\u001b[39;49m\u001b[38;5;241;43m.\u001b[39;49m\u001b[43margs\u001b[49m\u001b[43m,\u001b[49m\u001b[43m \u001b[49m\u001b[38;5;241;43m*\u001b[39;49m\u001b[38;5;241;43m*\u001b[39;49m\u001b[38;5;28;43mself\u001b[39;49m\u001b[38;5;241;43m.\u001b[39;49m\u001b[43mkwargs\u001b[49m\u001b[43m)\u001b[49m\n\u001b[0;32m     60\u001b[0m \u001b[38;5;28;01mexcept\u001b[39;00m \u001b[38;5;167;01mBaseException\u001b[39;00m \u001b[38;5;28;01mas\u001b[39;00m exc:\n\u001b[0;32m     61\u001b[0m     \u001b[38;5;28mself\u001b[39m\u001b[38;5;241m.\u001b[39mfuture\u001b[38;5;241m.\u001b[39mset_exception(exc)\n",
      "Cell \u001b[1;32mIn[8], line 248\u001b[0m, in \u001b[0;36mprocess_multispec_set\u001b[1;34m(green_image_path, output_directory)\u001b[0m\n\u001b[0;32m    246\u001b[0m aligned_red \u001b[38;5;241m=\u001b[39m align_images(green_image, bands[\u001b[38;5;124m\"\u001b[39m\u001b[38;5;124mR\u001b[39m\u001b[38;5;124m\"\u001b[39m], \u001b[38;5;124m\"\u001b[39m\u001b[38;5;124mR\u001b[39m\u001b[38;5;124m\"\u001b[39m, green_image_path, set_title)\n\u001b[0;32m    247\u001b[0m aligned_rededge \u001b[38;5;241m=\u001b[39m align_images(green_image, bands[\u001b[38;5;124m\"\u001b[39m\u001b[38;5;124mRE\u001b[39m\u001b[38;5;124m\"\u001b[39m], \u001b[38;5;124m\"\u001b[39m\u001b[38;5;124mRE\u001b[39m\u001b[38;5;124m\"\u001b[39m, green_image_path, set_title)\n\u001b[1;32m--> 248\u001b[0m aligned_nir \u001b[38;5;241m=\u001b[39m \u001b[43malign_images\u001b[49m\u001b[43m(\u001b[49m\u001b[43mgreen_image\u001b[49m\u001b[43m,\u001b[49m\u001b[43m \u001b[49m\u001b[43mbands\u001b[49m\u001b[43m[\u001b[49m\u001b[38;5;124;43m\"\u001b[39;49m\u001b[38;5;124;43mNIR\u001b[39;49m\u001b[38;5;124;43m\"\u001b[39;49m\u001b[43m]\u001b[49m\u001b[43m,\u001b[49m\u001b[43m \u001b[49m\u001b[38;5;124;43m\"\u001b[39;49m\u001b[38;5;124;43mNIR\u001b[39;49m\u001b[38;5;124;43m\"\u001b[39;49m\u001b[43m,\u001b[49m\u001b[43m \u001b[49m\u001b[43mgreen_image_path\u001b[49m\u001b[43m,\u001b[49m\u001b[43m \u001b[49m\u001b[43mset_title\u001b[49m\u001b[43m)\u001b[49m\n\u001b[0;32m    250\u001b[0m r_green \u001b[38;5;241m=\u001b[39m calibrate_image(green_image, green_metadata[\u001b[38;5;241m2\u001b[39m]) \n\u001b[0;32m    252\u001b[0m r_red \u001b[38;5;241m=\u001b[39m calibrate_image(aligned_red, bands[\u001b[38;5;124m\"\u001b[39m\u001b[38;5;124mR_meta\u001b[39m\u001b[38;5;124m\"\u001b[39m][\u001b[38;5;241m2\u001b[39m]) \n",
      "Cell \u001b[1;32mIn[8], line 186\u001b[0m, in \u001b[0;36malign_images\u001b[1;34m(image1, image2, band_name, green_image_path, set_title)\u001b[0m\n\u001b[0;32m    183\u001b[0m matches \u001b[38;5;241m=\u001b[39m flann\u001b[38;5;241m.\u001b[39mknnMatch(descriptors1, descriptors2, k\u001b[38;5;241m=\u001b[39m\u001b[38;5;241m2\u001b[39m)\n\u001b[0;32m    185\u001b[0m \u001b[38;5;66;03m# Filter matches using the ratio test\u001b[39;00m\n\u001b[1;32m--> 186\u001b[0m good_matches \u001b[38;5;241m=\u001b[39m [m \u001b[38;5;28;01mfor\u001b[39;00m m, n \u001b[38;5;129;01min\u001b[39;00m matches \u001b[38;5;28;01mif\u001b[39;00m m\u001b[38;5;241m.\u001b[39mdistance \u001b[38;5;241m<\u001b[39m \u001b[38;5;241m0.7\u001b[39m \u001b[38;5;241m*\u001b[39m n\u001b[38;5;241m.\u001b[39mdistance]\n\u001b[0;32m    188\u001b[0m \u001b[38;5;28;01mif\u001b[39;00m \u001b[38;5;28mlen\u001b[39m(good_matches) \u001b[38;5;241m<\u001b[39m \u001b[38;5;241m2\u001b[39m:\n\u001b[0;32m    189\u001b[0m     \u001b[38;5;28;01mraise\u001b[39;00m \u001b[38;5;167;01mValueError\u001b[39;00m(\u001b[38;5;124m\"\u001b[39m\u001b[38;5;124mNot enough good matches to compute affine transformation.\u001b[39m\u001b[38;5;124m\"\u001b[39m)\n",
      "\u001b[1;31mValueError\u001b[0m: not enough values to unpack (expected 2, got 1)"
     ]
    }
   ],
   "source": [
    "# Create a processed folder if it doesn't exist\n",
    "processed_dir = \"../../data/msrgb_processed/3m_uk_vineyard_east_june/\"\n",
    "os.makedirs(processed_dir, exist_ok=True)\n",
    "input_folder = \"../../data/RGBMS_pretraining/3M_uk_vineyard/June East/\"\n",
    "process_directory(input_folder, processed_dir)"
   ]
  },
  {
   "cell_type": "code",
   "execution_count": 14,
   "id": "2ca9b463-c90a-4e85-83c6-68976d27e208",
   "metadata": {},
   "outputs": [
    {
     "name": "stderr",
     "output_type": "stream",
     "text": [
      "C:\\Users\\judoj\\AppData\\Local\\Temp\\ipykernel_14752\\3794621238.py:343: DeprecationWarning: Testing an element's truth value will always return True in future versions.  Use specific 'len(elem)' or 'elem is not None' test instead.\n",
      "  if element:\n",
      "C:\\Users\\judoj\\AppData\\Local\\Temp\\ipykernel_14752\\3794621238.py:311: DeprecationWarning: Testing an element's truth value will always return True in future versions.  Use specific 'len(elem)' or 'elem is not None' test instead.\n",
      "  if element:\n",
      "  0%|▏                                                                              | 1/508 [01:35<13:29:32, 95.80s/it]"
     ]
    },
    {
     "name": "stdout",
     "output_type": "stream",
     "text": [
      "Skipping due to missing jpg path: C:\\Users\\judoj\\Documents\\programming\\msdata\\data\\RGBMS_pretraining\\3M_uk_vineyard\\DJI_202407141021_002_DJISmartFarmWeb-pingmid\\DJI_20240714102510_0012_D.JPG\n",
      "Skipping due to missing jpg path: C:\\Users\\judoj\\Documents\\programming\\msdata\\data\\RGBMS_pretraining\\3M_uk_vineyard\\DJI_202407141021_002_DJISmartFarmWeb-pingmid\\DJI_20240714102518_0016_D.JPG\n"
     ]
    },
    {
     "name": "stderr",
     "output_type": "stream",
     "text": [
      "  4%|███                                                                              | 19/508 [02:01<23:17,  2.86s/it]"
     ]
    },
    {
     "name": "stdout",
     "output_type": "stream",
     "text": [
      "Skipping due to missing jpg path: C:\\Users\\judoj\\Documents\\programming\\msdata\\data\\RGBMS_pretraining\\3M_uk_vineyard\\DJI_202407141021_002_DJISmartFarmWeb-pingmid\\DJI_20240714102524_0019_D.JPG\n",
      "Skipping due to missing jpg path: C:\\Users\\judoj\\Documents\\programming\\msdata\\data\\RGBMS_pretraining\\3M_uk_vineyard\\DJI_202407141021_002_DJISmartFarmWeb-pingmid\\DJI_20240714102530_0022_D.JPG\n"
     ]
    },
    {
     "name": "stderr",
     "output_type": "stream",
     "text": [
      "  4%|███▏                                                                             | 20/508 [02:04<23:32,  2.89s/it]"
     ]
    },
    {
     "name": "stdout",
     "output_type": "stream",
     "text": [
      "Skipping due to missing jpg path: C:\\Users\\judoj\\Documents\\programming\\msdata\\data\\RGBMS_pretraining\\3M_uk_vineyard\\DJI_202407141021_002_DJISmartFarmWeb-pingmid\\DJI_20240714102532_0023_D.JPG\n"
     ]
    },
    {
     "name": "stderr",
     "output_type": "stream",
     "text": [
      "  5%|███▊                                                                             | 24/508 [02:08<14:29,  1.80s/it]"
     ]
    },
    {
     "name": "stdout",
     "output_type": "stream",
     "text": [
      "Skipping due to missing jpg path: C:\\Users\\judoj\\Documents\\programming\\msdata\\data\\RGBMS_pretraining\\3M_uk_vineyard\\DJI_202407141021_002_DJISmartFarmWeb-pingmid\\DJI_20240714102534_0024_D.JPG\n"
     ]
    },
    {
     "name": "stderr",
     "output_type": "stream",
     "text": [
      "  5%|███▉                                                                             | 25/508 [02:10<15:26,  1.92s/it]"
     ]
    },
    {
     "name": "stdout",
     "output_type": "stream",
     "text": [
      "Skipping due to missing jpg path: C:\\Users\\judoj\\Documents\\programming\\msdata\\data\\RGBMS_pretraining\\3M_uk_vineyard\\DJI_202407141021_002_DJISmartFarmWeb-pingmid\\DJI_20240714102536_0025_D.JPG\n"
     ]
    },
    {
     "name": "stderr",
     "output_type": "stream",
     "text": [
      " 25%|███████████████████▊                                                            | 126/508 [05:05<11:27,  1.80s/it]"
     ]
    },
    {
     "name": "stdout",
     "output_type": "stream",
     "text": [
      "Skipping due to missing jpg path: C:\\Users\\judoj\\Documents\\programming\\msdata\\data\\RGBMS_pretraining\\3M_uk_vineyard\\DJI_202407141021_002_DJISmartFarmWeb-pingmid\\DJI_20240714102901_0127_D.JPG\n"
     ]
    },
    {
     "name": "stderr",
     "output_type": "stream",
     "text": [
      " 25%|████████████████████▏                                                           | 128/508 [05:08<09:31,  1.51s/it]"
     ]
    },
    {
     "name": "stdout",
     "output_type": "stream",
     "text": [
      "Skipping due to missing jpg path: C:\\Users\\judoj\\Documents\\programming\\msdata\\data\\RGBMS_pretraining\\3M_uk_vineyard\\DJI_202407141021_002_DJISmartFarmWeb-pingmid\\DJI_20240714102903_0128_D.JPG\n"
     ]
    },
    {
     "name": "stderr",
     "output_type": "stream",
     "text": [
      " 25%|████████████████████▎                                                           | 129/508 [05:09<09:01,  1.43s/it]"
     ]
    },
    {
     "name": "stdout",
     "output_type": "stream",
     "text": [
      "Skipping due to missing jpg path: C:\\Users\\judoj\\Documents\\programming\\msdata\\data\\RGBMS_pretraining\\3M_uk_vineyard\\DJI_202407141021_002_DJISmartFarmWeb-pingmid\\DJI_20240714102905_0129_D.JPG\n",
      "Skipping due to missing jpg path: C:\\Users\\judoj\\Documents\\programming\\msdata\\data\\RGBMS_pretraining\\3M_uk_vineyard\\DJI_202407141021_002_DJISmartFarmWeb-pingmid\\DJI_20240714102909_0131_D.JPG\n"
     ]
    },
    {
     "name": "stderr",
     "output_type": "stream",
     "text": [
      " 44%|███████████████████████████████████▍                                            | 225/508 [07:42<05:19,  1.13s/it]"
     ]
    },
    {
     "name": "stdout",
     "output_type": "stream",
     "text": [
      "Skipping due to missing jpg path: C:\\Users\\judoj\\Documents\\programming\\msdata\\data\\RGBMS_pretraining\\3M_uk_vineyard\\DJI_202407141021_002_DJISmartFarmWeb-pingmid\\DJI_20240714103218_0225_D.JPG\n"
     ]
    },
    {
     "name": "stderr",
     "output_type": "stream",
     "text": [
      " 46%|████████████████████████████████████▊                                           | 234/508 [07:56<06:59,  1.53s/it]"
     ]
    },
    {
     "name": "stdout",
     "output_type": "stream",
     "text": [
      "Skipping due to missing jpg path: C:\\Users\\judoj\\Documents\\programming\\msdata\\data\\RGBMS_pretraining\\3M_uk_vineyard\\DJI_202407141021_002_DJISmartFarmWeb-pingmid\\DJI_20240714103236_0234_D.JPG\n"
     ]
    },
    {
     "name": "stderr",
     "output_type": "stream",
     "text": [
      " 46%|█████████████████████████████████████▏                                          | 236/508 [08:00<07:17,  1.61s/it]"
     ]
    },
    {
     "name": "stdout",
     "output_type": "stream",
     "text": [
      "Skipping due to missing jpg path: C:\\Users\\judoj\\Documents\\programming\\msdata\\data\\RGBMS_pretraining\\3M_uk_vineyard\\DJI_202407141021_002_DJISmartFarmWeb-pingmid\\DJI_20240714103244_0238_D.JPG\n"
     ]
    },
    {
     "name": "stderr",
     "output_type": "stream",
     "text": [
      " 47%|█████████████████████████████████████▋                                          | 239/508 [08:03<05:31,  1.23s/it]"
     ]
    },
    {
     "name": "stdout",
     "output_type": "stream",
     "text": [
      "Skipping due to missing jpg path: C:\\Users\\judoj\\Documents\\programming\\msdata\\data\\RGBMS_pretraining\\3M_uk_vineyard\\DJI_202407141021_002_DJISmartFarmWeb-pingmid\\DJI_20240714103246_0239_D.JPG\n",
      "Skipping due to missing jpg path: C:\\Users\\judoj\\Documents\\programming\\msdata\\data\\RGBMS_pretraining\\3M_uk_vineyard\\DJI_202407141021_002_DJISmartFarmWeb-pingmid\\DJI_20240714103250_0241_D.JPG\n"
     ]
    },
    {
     "name": "stderr",
     "output_type": "stream",
     "text": [
      " 68%|██████████████████████████████████████████████████████▏                         | 344/508 [10:39<06:18,  2.31s/it]"
     ]
    },
    {
     "name": "stdout",
     "output_type": "stream",
     "text": [
      "Skipping due to missing jpg path: C:\\Users\\judoj\\Documents\\programming\\msdata\\data\\RGBMS_pretraining\\3M_uk_vineyard\\DJI_202407141021_002_DJISmartFarmWeb-pingmid\\DJI_20240714103623_0347_D.JPG\n",
      "Skipping due to missing jpg path: C:\\Users\\judoj\\Documents\\programming\\msdata\\data\\RGBMS_pretraining\\3M_uk_vineyard\\DJI_202407141021_002_DJISmartFarmWeb-pingmid\\DJI_20240714103625_0348_D.JPG\n"
     ]
    },
    {
     "name": "stderr",
     "output_type": "stream",
     "text": [
      " 69%|███████████████████████████████████████████████████████                         | 350/508 [10:44<02:48,  1.07s/it]"
     ]
    },
    {
     "name": "stdout",
     "output_type": "stream",
     "text": [
      "Skipping due to missing jpg path: C:\\Users\\judoj\\Documents\\programming\\msdata\\data\\RGBMS_pretraining\\3M_uk_vineyard\\DJI_202407141021_002_DJISmartFarmWeb-pingmid\\DJI_20240714103629_0350_D.JPG\n"
     ]
    },
    {
     "name": "stderr",
     "output_type": "stream",
     "text": [
      " 69%|███████████████████████████████████████████████████████▎                        | 351/508 [10:47<04:10,  1.60s/it]"
     ]
    },
    {
     "name": "stdout",
     "output_type": "stream",
     "text": [
      "Skipping due to missing jpg path: C:\\Users\\judoj\\Documents\\programming\\msdata\\data\\RGBMS_pretraining\\3M_uk_vineyard\\DJI_202407141021_002_DJISmartFarmWeb-pingmid\\DJI_20240714103631_0351_D.JPG\n"
     ]
    },
    {
     "name": "stderr",
     "output_type": "stream",
     "text": [
      " 69%|███████████████████████████████████████████████████████▍                        | 352/508 [10:52<05:52,  2.26s/it]"
     ]
    },
    {
     "name": "stdout",
     "output_type": "stream",
     "text": [
      "Skipping due to missing jpg path: C:\\Users\\judoj\\Documents\\programming\\msdata\\data\\RGBMS_pretraining\\3M_uk_vineyard\\DJI_202407141021_002_DJISmartFarmWeb-pingmid\\DJI_20240714103633_0352_D.JPG\n"
     ]
    },
    {
     "name": "stderr",
     "output_type": "stream",
     "text": [
      " 89%|███████████████████████████████████████████████████████████████████████         | 451/508 [13:24<01:27,  1.54s/it]"
     ]
    },
    {
     "name": "stdout",
     "output_type": "stream",
     "text": [
      "Skipping due to missing jpg path: C:\\Users\\judoj\\Documents\\programming\\msdata\\data\\RGBMS_pretraining\\3M_uk_vineyard\\DJI_202407141021_002_DJISmartFarmWeb-pingmid\\DJI_20240714103952_0451_D.JPG\n"
     ]
    },
    {
     "name": "stderr",
     "output_type": "stream",
     "text": [
      " 89%|███████████████████████████████████████████████████████████████████████▏        | 452/508 [13:25<01:28,  1.58s/it]"
     ]
    },
    {
     "name": "stdout",
     "output_type": "stream",
     "text": [
      "Skipping due to missing jpg path: C:\\Users\\judoj\\Documents\\programming\\msdata\\data\\RGBMS_pretraining\\3M_uk_vineyard\\DJI_202407141021_002_DJISmartFarmWeb-pingmid\\DJI_20240714103958_0454_D.JPG\n"
     ]
    },
    {
     "name": "stderr",
     "output_type": "stream",
     "text": [
      " 90%|███████████████████████████████████████████████████████████████████████▋        | 455/508 [13:28<01:01,  1.16s/it]"
     ]
    },
    {
     "name": "stdout",
     "output_type": "stream",
     "text": [
      "Skipping due to missing jpg path: C:\\Users\\judoj\\Documents\\programming\\msdata\\data\\RGBMS_pretraining\\3M_uk_vineyard\\DJI_202407141021_002_DJISmartFarmWeb-pingmid\\DJI_20240714104002_0456_D.JPG\n"
     ]
    },
    {
     "name": "stderr",
     "output_type": "stream",
     "text": [
      " 90%|███████████████████████████████████████████████████████████████████████▉        | 457/508 [13:30<00:49,  1.03it/s]"
     ]
    },
    {
     "name": "stdout",
     "output_type": "stream",
     "text": [
      "Skipping due to missing jpg path: C:\\Users\\judoj\\Documents\\programming\\msdata\\data\\RGBMS_pretraining\\3M_uk_vineyard\\DJI_202407141021_002_DJISmartFarmWeb-pingmid\\DJI_20240714104004_0457_D.JPG\n"
     ]
    },
    {
     "name": "stderr",
     "output_type": "stream",
     "text": [
      " 91%|████████████████████████████████████████████████████████████████████████▌       | 461/508 [13:37<01:03,  1.34s/it]"
     ]
    },
    {
     "name": "stdout",
     "output_type": "stream",
     "text": [
      "Skipping due to missing jpg path: C:\\Users\\judoj\\Documents\\programming\\msdata\\data\\RGBMS_pretraining\\3M_uk_vineyard\\DJI_202407141021_002_DJISmartFarmWeb-pingmid\\DJI_20240714104016_0463_D.JPG\n"
     ]
    },
    {
     "name": "stderr",
     "output_type": "stream",
     "text": [
      "100%|████████████████████████████████████████████████████████████████████████████████| 508/508 [14:39<00:00,  1.73s/it]"
     ]
    },
    {
     "name": "stdout",
     "output_type": "stream",
     "text": [
      "All images successfully processed.\n"
     ]
    },
    {
     "name": "stderr",
     "output_type": "stream",
     "text": [
      "\n"
     ]
    }
   ],
   "source": [
    "# Create a processed folder if it doesn't exist\n",
    "processed_dir = \"../../data/msrgb_processed/3m_uk_vineyard_mid_july/\"\n",
    "os.makedirs(processed_dir, exist_ok=True)\n",
    "input_folder = \"../../data/RGBMS_pretraining/3M_uk_vineyard/DJI_202407141021_002_DJISmartFarmWeb-pingmid\"\n",
    "process_directory(input_folder, processed_dir)"
   ]
  },
  {
   "cell_type": "code",
   "execution_count": 16,
   "id": "de43fcaf-bdfe-450a-b13e-c02903b1d2f7",
   "metadata": {},
   "outputs": [],
   "source": [
    "import os\n",
    "import numpy as np\n",
    "import tifffile as tiff\n",
    "import matplotlib.pyplot as plt\n",
    "\n",
    "def display_image_bands(folder_path):\n",
    "    \"\"\"Load the first 4-channel TIFF image from the folder and display its bands.\"\"\"\n",
    "    # Find the first TIFF file in the folder\n",
    "    tiff_files = [f for f in os.listdir(folder_path) if f.endswith(\".tif\")]\n",
    "    if not tiff_files:\n",
    "        print(\"No TIFF files found in the folder.\")\n",
    "        return\n",
    "\n",
    "    first_image_path = os.path.join(folder_path, tiff_files[-1])\n",
    "    \n",
    "    # Load the image\n",
    "    image = tiff.imread(first_image_path)\n",
    "    \n",
    "    # Validate that it's a 4-channel image\n",
    "    if image.shape[-1] != 4:\n",
    "        print(\"The image does not have 4 channels.\")\n",
    "        return\n",
    "    \n",
    "    # Extract the bands\n",
    "    green_band = image[:, :, 0]\n",
    "    red_band = image[:, :, 1]\n",
    "    rededge_band = image[:, :, 2]\n",
    "    nir_band = image[:, :, 3]\n",
    "    \n",
    "    # Create a false-color image (NIR, Red, Green)\n",
    "    false_color_image = np.dstack((nir_band, red_band, green_band))\n",
    "    false_color_image = false_color_image / 65535\n",
    "\n",
    "    # Create a 10x zoom of the center crop\n",
    "    height, width, _ = false_color_image.shape\n",
    "    crop_size = (height // 20, width // 20)  # Crop size for a 10x zoom\n",
    "    center_y, center_x = height // 2, width // 2\n",
    "\n",
    "    # Get the cropped region\n",
    "    cropped_image = false_color_image[\n",
    "        center_y - crop_size[0] // 2 : center_y + crop_size[0] // 2,\n",
    "        center_x - crop_size[1] // 2 : center_x + crop_size[1] // 2\n",
    "    ]\n",
    "\n",
    "    # Resize the cropped image to match the original dimensions\n",
    "    zoomed_image = cv2.resize(cropped_image, (width, height), interpolation=cv2.INTER_LINEAR)\n",
    "\n",
    "    # Plot the images\n",
    "    fig, ax = plt.subplots(2, 3, figsize=(18, 12))\n",
    "\n",
    "    # False color image\n",
    "    ax[0, 0].imshow(false_color_image)\n",
    "    ax[0, 0].set_title(\"False Color (NIR, Red, Green)\")\n",
    "    ax[0, 0].axis(\"off\")\n",
    "\n",
    "    # Individual bands\n",
    "    ax[0, 1].imshow(green_band, cmap=\"gray\")\n",
    "    ax[0, 1].set_title(\"Green Band\")\n",
    "    ax[0, 1].axis(\"off\")\n",
    "\n",
    "    ax[0, 2].imshow(red_band, cmap=\"gray\")\n",
    "    ax[0, 2].set_title(\"Red Band\")\n",
    "    ax[0, 2].axis(\"off\")\n",
    "\n",
    "    ax[1, 0].imshow(rededge_band, cmap=\"gray\")\n",
    "    ax[1, 0].set_title(\"RedEdge Band\")\n",
    "    ax[1, 0].axis(\"off\")\n",
    "\n",
    "    ax[1, 1].imshow(nir_band, cmap=\"gray\")\n",
    "    ax[1, 1].set_title(\"NIR Band\")\n",
    "    ax[1, 1].axis(\"off\")\n",
    "\n",
    "    # Zoomed-in section\n",
    "    ax[1, 2].imshow(zoomed_image)\n",
    "    ax[1, 2].set_title(\"20x Zoom (Center Crop)\")\n",
    "    ax[1, 2].axis(\"off\")\n",
    "\n",
    "    plt.tight_layout()\n",
    "    plt.show()\n"
   ]
  },
  {
   "cell_type": "code",
   "execution_count": 17,
   "id": "e6998e5e-0d2b-4897-bd5f-3167b917bf92",
   "metadata": {},
   "outputs": [
    {
     "ename": "FileNotFoundError",
     "evalue": "[WinError 3] The system cannot find the path specified: '../data/processed/3m_uk_vineyard_east_july/'",
     "output_type": "error",
     "traceback": [
      "\u001b[1;31m---------------------------------------------------------------------------\u001b[0m",
      "\u001b[1;31mFileNotFoundError\u001b[0m                         Traceback (most recent call last)",
      "Cell \u001b[1;32mIn[17], line 1\u001b[0m\n\u001b[1;32m----> 1\u001b[0m \u001b[43mdisplay_image_bands\u001b[49m\u001b[43m(\u001b[49m\u001b[38;5;124;43m\"\u001b[39;49m\u001b[38;5;124;43m../data/processed/3m_uk_vineyard_east_july/\u001b[39;49m\u001b[38;5;124;43m\"\u001b[39;49m\u001b[43m)\u001b[49m\n",
      "Cell \u001b[1;32mIn[16], line 9\u001b[0m, in \u001b[0;36mdisplay_image_bands\u001b[1;34m(folder_path)\u001b[0m\n\u001b[0;32m      7\u001b[0m \u001b[38;5;250m\u001b[39m\u001b[38;5;124;03m\"\"\"Load the first 4-channel TIFF image from the folder and display its bands.\"\"\"\u001b[39;00m\n\u001b[0;32m      8\u001b[0m \u001b[38;5;66;03m# Find the first TIFF file in the folder\u001b[39;00m\n\u001b[1;32m----> 9\u001b[0m tiff_files \u001b[38;5;241m=\u001b[39m [f \u001b[38;5;28;01mfor\u001b[39;00m f \u001b[38;5;129;01min\u001b[39;00m \u001b[43mos\u001b[49m\u001b[38;5;241;43m.\u001b[39;49m\u001b[43mlistdir\u001b[49m\u001b[43m(\u001b[49m\u001b[43mfolder_path\u001b[49m\u001b[43m)\u001b[49m \u001b[38;5;28;01mif\u001b[39;00m f\u001b[38;5;241m.\u001b[39mendswith(\u001b[38;5;124m\"\u001b[39m\u001b[38;5;124m.tif\u001b[39m\u001b[38;5;124m\"\u001b[39m)]\n\u001b[0;32m     10\u001b[0m \u001b[38;5;28;01mif\u001b[39;00m \u001b[38;5;129;01mnot\u001b[39;00m tiff_files:\n\u001b[0;32m     11\u001b[0m     \u001b[38;5;28mprint\u001b[39m(\u001b[38;5;124m\"\u001b[39m\u001b[38;5;124mNo TIFF files found in the folder.\u001b[39m\u001b[38;5;124m\"\u001b[39m)\n",
      "\u001b[1;31mFileNotFoundError\u001b[0m: [WinError 3] The system cannot find the path specified: '../data/processed/3m_uk_vineyard_east_july/'"
     ]
    }
   ],
   "source": [
    "\n",
    "display_image_bands(\"../data/processed/3m_uk_vineyard_east_july/\")\n"
   ]
  },
  {
   "cell_type": "code",
   "execution_count": null,
   "id": "413d7c71-4f5f-4f7f-84c3-d94b327764d5",
   "metadata": {},
   "outputs": [],
   "source": []
  }
 ],
 "metadata": {
  "kernelspec": {
   "display_name": "Python 3 (ipykernel)",
   "language": "python",
   "name": "python3"
  },
  "language_info": {
   "codemirror_mode": {
    "name": "ipython",
    "version": 3
   },
   "file_extension": ".py",
   "mimetype": "text/x-python",
   "name": "python",
   "nbconvert_exporter": "python",
   "pygments_lexer": "ipython3",
   "version": "3.13.1"
  }
 },
 "nbformat": 4,
 "nbformat_minor": 5
}
