{
 "cells": [
  {
   "cell_type": "code",
   "execution_count": 32,
   "id": "702cbe96-8495-41f8-a014-78c40f41ae03",
   "metadata": {},
   "outputs": [],
   "source": [
    "import os\n",
    "\n",
    "def count_files_in_directory(directory):\n",
    "    file_count = 0\n",
    "    for root, dirs, files in os.walk(directory):\n",
    "        file_count += len(files)\n",
    "    return file_count\n",
    "\n",
    "directory_path = \"../data/processed/\""
   ]
  },
  {
   "cell_type": "code",
   "execution_count": 33,
   "id": "0983da2e-5651-4971-9315-05e77e6abfcc",
   "metadata": {},
   "outputs": [
    {
     "data": {
      "text/plain": [
       "12142"
      ]
     },
     "execution_count": 33,
     "metadata": {},
     "output_type": "execute_result"
    }
   ],
   "source": [
    "count_files_in_directory(directory_path)"
   ]
  },
  {
   "cell_type": "code",
   "execution_count": 66,
   "id": "33c7434c-34bf-45aa-81a7-5924d1a01858",
   "metadata": {},
   "outputs": [],
   "source": [
    "import os\n",
    "import numpy as np\n",
    "import tifffile as tiff\n",
    "import matplotlib.pyplot as plt\n",
    "from pathlib import Path\n",
    "\n",
    "\n",
    "def load_tif_image(filepath):\n",
    "    \"\"\"Load a 4-band TIFF image and return as a NumPy array.\"\"\"\n",
    "    img = tiff.imread(filepath)  # Shape: (H, W, 4)\n",
    "    print(img.dtype)\n",
    "    \n",
    "    return img.astype(np.uint16)\n",
    "\n",
    "def plot_images(image, title_prefix, save_path):\n",
    "    \"\"\"Generate and save multiple visualizations for a 4-band image.\"\"\"\n",
    "    bands = ['GRE', 'RED', 'REDEDGE', 'NIR']\n",
    "    \n",
    "    # Plot individual bands\n",
    "    fig, axes = plt.subplots(2, 3, figsize=(15, 10))\n",
    "    for i in range(4):\n",
    "        ax = axes[i // 2, i % 2]\n",
    "        ax.imshow(image[:, :, i], cmap='gray')\n",
    "        ax.set_title(f\"{title_prefix} - {bands[i]}\")\n",
    "        ax.axis(\"off\")\n",
    "    \n",
    "    # False Color Composite (NIR, RED, GREEN)\n",
    "    false_color = np.stack([image[:, :, 3], image[:, :, 1], image[:, :, 0]], axis=-1)  # (H, W, 3)\n",
    "    print(image.shape)\n",
    "    false_color = false_color / np.max(false_color)  # Normalize for visualization\n",
    "    \n",
    "    ax_false = axes[0, 2]\n",
    "    ax_false.imshow(false_color)\n",
    "    ax_false.set_title(f\"{title_prefix} - False Color (NIR, RED, GREEN)\")\n",
    "    ax_false.axis(\"off\")\n",
    "    \n",
    "    # Zoomed-in False Color (20x)\n",
    "    zoom_factor = 20\n",
    "    h, w, _ = image.shape\n",
    "    center_x, center_y = w // 2, h // 2\n",
    "    zoom_size_x, zoom_size_y = w // (2 * zoom_factor), h // (2 * zoom_factor)\n",
    "    \n",
    "    zoomed = false_color[\n",
    "        center_y - zoom_size_y:center_y + zoom_size_y,\n",
    "        center_x - zoom_size_x:center_x + zoom_size_x,\n",
    "        :\n",
    "    ]\n",
    "        \n",
    "    ax_zoom = axes[1, 2]\n",
    "    ax_zoom.imshow(zoomed)\n",
    "    ax_zoom.set_title(f\"{title_prefix} - False Color Zoomed (20x)\")\n",
    "    ax_zoom.axis(\"off\")\n",
    "\n",
    "    # Save the visualization\n",
    "    plt.tight_layout()\n",
    "    plt.savefig(save_path, dpi=300)\n",
    "    plt.close()\n",
    "\n",
    "def plot_histogram(image, title_prefix, save_path):\n",
    "    \"\"\"Plot histograms for all 4 bands and save as an image.\"\"\"\n",
    "    bands = ['GRE', 'RED', 'REDEDGE', 'NIR']\n",
    "    fig, ax = plt.subplots(figsize=(8, 6))\n",
    "\n",
    "    for i in range(4):\n",
    "        ax.hist(image[:, :, i].ravel(), bins=256, alpha=0.6, label=bands[i], histtype='step')\n",
    "\n",
    "    ax.set_title(f\"{title_prefix} - Histogram of Bands\")\n",
    "    ax.set_xlabel(\"Pixel Intensity\")\n",
    "    ax.set_ylabel(\"Frequency\")\n",
    "    ax.legend()\n",
    "    \n",
    "    plt.savefig(save_path, dpi=300)\n",
    "    plt.close()\n",
    "\n",
    "\n",
    "def process_directory(root_dir, output_dir):\n",
    "    \"\"\"Process all subdirectories containing TIFF files and save outputs to the given directory.\"\"\"\n",
    "    root_path = Path(root_dir)\n",
    "    output_path = Path(output_dir)\n",
    "    output_path.mkdir(parents=True, exist_ok=True)  # Ensure output directory exists\n",
    "\n",
    "    for sub_dir in root_path.iterdir():\n",
    "        if sub_dir.is_dir():\n",
    "            process_single_subfolder(root_dir, sub_dir.name, output_dir)\n",
    "\n",
    "def process_single_subfolder(root_dir, subfolder_name, output_dir):\n",
    "    \"\"\"Process a specific subfolder, handling cases with one or multiple images.\"\"\"\n",
    "    sub_path = Path(root_dir) / subfolder_name\n",
    "    if not sub_path.is_dir():\n",
    "        print(f\"Subfolder {subfolder_name} not found in {root_dir}\")\n",
    "        return\n",
    "    \n",
    "    tif_files = sorted(sub_path.glob(\"*.tif\"))  # Sort to get first and last\n",
    "    if len(tif_files) == 0:\n",
    "        print(f\"Skipping {subfolder_name}: No TIFF files found.\")\n",
    "        return\n",
    "    \n",
    "    first_tif = tif_files[0]  # Always process the first image\n",
    "    last_tif = tif_files[-1] if len(tif_files) > 1 else None  # Only set last if there's more than one\n",
    "    \n",
    "    print(f\"Processing {subfolder_name}: {first_tif.name}\" + (f\", {last_tif.name}\" if last_tif else \" (Only 1 image)\"))\n",
    "\n",
    "    # Load the first image\n",
    "    img_first = load_tif_image(first_tif)\n",
    "\n",
    "    # Create a subfolder in the output directory\n",
    "    sub_output_dir = Path(output_dir) / subfolder_name\n",
    "    sub_output_dir.mkdir(parents=True, exist_ok=True)\n",
    "\n",
    "    # Define save paths\n",
    "    save_path_first = sub_output_dir / f\"{subfolder_name}_first.png\"\n",
    "    save_path_hist_first = sub_output_dir / f\"{subfolder_name}_hist_first.png\"\n",
    "\n",
    "    # Generate and save plots for the first image\n",
    "    plot_images(img_first, f\"{subfolder_name} - First\", save_path_first)\n",
    "    plot_histogram(img_first, f\"{subfolder_name} - First\", save_path_hist_first)\n",
    "\n",
    "    print(f\"Saved plots for {subfolder_name} in {sub_output_dir}\")\n",
    "\n",
    "    # If there's a second image, process it as well\n",
    "    if last_tif and last_tif != first_tif:\n",
    "        img_last = load_tif_image(last_tif)\n",
    "        save_path_last = sub_output_dir / f\"{subfolder_name}_last.png\"\n",
    "        save_path_hist_last = sub_output_dir / f\"{subfolder_name}_hist_last.png\"\n",
    "        \n",
    "        plot_images(img_last, f\"{subfolder_name} - Last\", save_path_last)\n",
    "        plot_histogram(img_last, f\"{subfolder_name} - Last\", save_path_hist_last)\n",
    "\n",
    "        print(f\"Saved additional plots for last image in {sub_output_dir}\")\n"
   ]
  },
  {
   "cell_type": "code",
   "execution_count": 70,
   "id": "a36de8d3-ba3d-43cb-a674-10001a19b6ff",
   "metadata": {},
   "outputs": [
    {
     "name": "stdout",
     "output_type": "stream",
     "text": [
      "Processing sequoia_localization: SEQUOIA_SUNCAL_sequoia_localization_IMG_190205_132741_0390_GRE.tif, SEQUOIA_SUNCAL_sequoia_localization_IMG_190205_133124_0613_GRE.tif\n",
      "uint16\n",
      "(960, 1280, 4)\n",
      "Saved plots for sequoia_localization in ..\\data\\outputs\\sequoia_localization\n",
      "uint16\n",
      "(960, 1280, 4)\n",
      "Saved additional plots for last image in ..\\data\\outputs\\sequoia_localization\n"
     ]
    }
   ],
   "source": [
    "\n",
    "# Set your paths here\n",
    "directory_path = \"../data/processed\"  # Change to your actual input directory\n",
    "output_directory = \"../data/outputs\"  # Change to your desired output directory\n",
    "os.makedirs(output_directory, exist_ok=True)\n",
    "process_single_subfolder(directory_path, \"sequoia_subtropical_a\", output_directory)"
   ]
  },
  {
   "cell_type": "code",
   "execution_count": null,
   "id": "6e42fdd0-a113-4e59-8e02-e8b9263bf6d4",
   "metadata": {},
   "outputs": [],
   "source": [
    "\n",
    "# Set your paths here\n",
    "directory_path = \"../data/processed\"  # Change to your actual input directory\n",
    "output_directory = \"../data/outputs\"  # Change to your desired output directory\n",
    "os.makedirs(output_directory, exist_ok=True)\n",
    "process_single_subfolder(directory_path, \"sequoia_subtropical_b\", output_directory)"
   ]
  },
  {
   "cell_type": "code",
   "execution_count": null,
   "id": "d15fae48-bd4b-4e55-993a-3bad2da7331d",
   "metadata": {},
   "outputs": [],
   "source": [
    "\n",
    "# Set your paths here\n",
    "directory_path = \"../data/processed\"  # Change to your actual input directory\n",
    "output_directory = \"../data/outputs\"  # Change to your desired output directory\n",
    "os.makedirs(output_directory, exist_ok=True)\n",
    "process_single_subfolder(directory_path, \"sequoia_subtropical_c\", output_directory)"
   ]
  },
  {
   "cell_type": "code",
   "execution_count": 64,
   "id": "2bc50727-2777-4962-86d6-84316b284a45",
   "metadata": {},
   "outputs": [
    {
     "name": "stdout",
     "output_type": "stream",
     "text": [
      "Processing 3m_miningwaste_a: 3M_SUNCAL_3m_miningwaste_a_DJI_20230906101227_0001_MS.tif, 3M_SUNCAL_3m_miningwaste_a_DJI_20230906111858_0113_MS.tif\n",
      "uint16\n",
      "(1944, 2592, 4)\n"
     ]
    },
    {
     "name": "stderr",
     "output_type": "stream",
     "text": [
      "\n",
      "KeyboardInterrupt\n",
      "\n"
     ]
    },
    {
     "name": "stdout",
     "output_type": "stream",
     "text": [
      "Error in callback <function _draw_all_if_interactive at 0x000001DA221D6A20> (for post_execute), with arguments args (),kwargs {}:\n"
     ]
    },
    {
     "name": "stderr",
     "output_type": "stream",
     "text": [
      "\n",
      "KeyboardInterrupt\n",
      "\n"
     ]
    },
    {
     "name": "stdout",
     "output_type": "stream",
     "text": [
      "Error in callback <function flush_figures at 0x000001DA221F68E0> (for post_execute), with arguments args (),kwargs {}:\n"
     ]
    },
    {
     "name": "stderr",
     "output_type": "stream",
     "text": [
      "\n",
      "KeyboardInterrupt\n",
      "\n"
     ]
    }
   ],
   "source": [
    "\n",
    "# Set your paths here\n",
    "directory_path = \"../data/processed\"  # Change to your actual input directory\n",
    "output_directory = \"../data/outputs\"  # Change to your desired output directory\n",
    "os.makedirs(output_directory, exist_ok=True)\n",
    "process_directory(directory_path, output_directory)"
   ]
  },
  {
   "cell_type": "code",
   "execution_count": null,
   "id": "64c2a35c-12a8-4e31-b4a3-5629be40bf03",
   "metadata": {},
   "outputs": [],
   "source": []
  },
  {
   "cell_type": "code",
   "execution_count": null,
   "id": "49e4df09-3b9e-428f-bf0f-3a81f222d21e",
   "metadata": {},
   "outputs": [],
   "source": []
  }
 ],
 "metadata": {
  "kernelspec": {
   "display_name": "Python 3 (ipykernel)",
   "language": "python",
   "name": "python3"
  },
  "language_info": {
   "codemirror_mode": {
    "name": "ipython",
    "version": 3
   },
   "file_extension": ".py",
   "mimetype": "text/x-python",
   "name": "python",
   "nbconvert_exporter": "python",
   "pygments_lexer": "ipython3",
   "version": "3.13.1"
  }
 },
 "nbformat": 4,
 "nbformat_minor": 5
}
