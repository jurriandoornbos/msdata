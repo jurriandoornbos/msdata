{
 "cells": [
  {
   "cell_type": "code",
   "execution_count": 9,
   "id": "ad362c4f-0547-4e55-8b5e-953ed2a200f3",
   "metadata": {},
   "outputs": [
    {
     "name": "stdout",
     "output_type": "stream",
     "text": [
      "Calculated Flight Height: 67.13 meters\n",
      "Calculated GSD: 0.018 meters\n"
     ]
    }
   ],
   "source": [
    "# Define camera parameters 3M RGB\n",
    "sensor_width = \t17.4  # mm\n",
    "focal_length = 12.29  # mm\n",
    "image_width = 5280  # pixels\n",
    "\n",
    "# Input GSD\n",
    "gsd = 0.015430  # meters (5 cm)\n",
    "\n",
    "# Calculate Flight Height\n",
    "flight_height = (gsd * focal_length * image_width) / sensor_width\n",
    "print(f\"Calculated Flight Height: {flight_height:.2f} meters\")\n",
    "\n",
    "# Given Flight Height, calculate GSD\n",
    "# flight_height = 194.44  # example flight height in meters\n",
    "calculated_gsd = (sensor_width * flight_height) / (focal_length * image_width)\n",
    "print(f\"Calculated GSD: {calculated_gsd:.3f} meters\")"
   ]
  },
  {
   "cell_type": "code",
   "execution_count": 1,
   "id": "490131fa-392a-4099-ae45-5e9125c71864",
   "metadata": {},
   "outputs": [
    {
     "name": "stdout",
     "output_type": "stream",
     "text": [
      "Calculated Flight Height: 81.22 meters\n",
      "Calculated GSD: 0.043 meters\n"
     ]
    }
   ],
   "source": [
    "# Define camera parameters phantom 4 MS\n",
    "sensor_width = \t4.87  # mm\n",
    "focal_length =  5.74  # mm\n",
    "image_width = 1600  # pixels\n",
    "\n",
    "# Input GSD\n",
    "gsd = 0.04307  # meters (5 cm)\n",
    "\n",
    "# Calculate Flight Height\n",
    "flight_height = (gsd * focal_length * image_width) / sensor_width\n",
    "print(f\"Calculated Flight Height: {flight_height:.2f} meters\")\n",
    "\n",
    "# Given Flight Height, calculate GSD\n",
    "# flight_height = 194.44  # example flight height in meters\n",
    "calculated_gsd = (sensor_width * flight_height) / (focal_length * image_width)\n",
    "print(f\"Calculated GSD: {calculated_gsd:.3f} meters\")"
   ]
  },
  {
   "cell_type": "code",
   "execution_count": 1,
   "id": "0debd188-afb2-45a4-b448-a88581e34066",
   "metadata": {},
   "outputs": [
    {
     "name": "stdout",
     "output_type": "stream",
     "text": [
      "Calculated Flight Height: 35.78 meters\n",
      "Calculated GSD: 0.015 meters\n"
     ]
    }
   ],
   "source": [
    "# Define camera parameters ALTUM-PT Multi\n",
    "sensor_width = \t7.12  # mm\n",
    "focal_length = 8.0  # mm\n",
    "image_width = 2064  # pixels\n",
    "\n",
    "# Input GSD\n",
    "gsd = 0.015430  # meters (5 cm)\n",
    "\n",
    "# Calculate Flight Height\n",
    "flight_height = (gsd * focal_length * image_width) / sensor_width\n",
    "print(f\"Calculated Flight Height: {flight_height:.2f} meters\")\n",
    "\n",
    "# Given Flight Height, calculate GSD\n",
    "# flight_height = 194.44  # example flight height in meters\n",
    "calculated_gsd = (sensor_width * flight_height) / (focal_length * image_width)\n",
    "print(f\"Calculated GSD: {calculated_gsd:.3f} meters\")"
   ]
  }
 ],
 "metadata": {
  "kernelspec": {
   "display_name": "Python 3 (ipykernel)",
   "language": "python",
   "name": "python3"
  },
  "language_info": {
   "codemirror_mode": {
    "name": "ipython",
    "version": 3
   },
   "file_extension": ".py",
   "mimetype": "text/x-python",
   "name": "python",
   "nbconvert_exporter": "python",
   "pygments_lexer": "ipython3",
   "version": "3.13.1"
  }
 },
 "nbformat": 4,
 "nbformat_minor": 5
}
