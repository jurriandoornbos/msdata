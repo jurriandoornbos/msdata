{
 "cells": [
  {
   "attachments": {},
   "cell_type": "markdown",
   "id": "8cc26962-ebf2-4623-8b5a-efb2d569eaa4",
   "metadata": {},
   "source": [
    "# Image registration for Rededge Potato\n",
    "\n",
    "As it is a Rededge orthomosaic, scaled from 0-to-1 and the filetitles gives 'reflectance', we assume it is calibrated\n",
    "* For the following Dataset: https://zenodo.org/records/10934163\n",
    "* Using code snippets from:\n",
    "\n",
    "Output: `uint16` 0-65535 scaled .tif files with green, red, rededge, nir bands\n"
   ]
  },
  {
   "cell_type": "code",
   "execution_count": 1,
   "id": "384ecad8-063c-4cdf-ab94-3884ddb440d4",
   "metadata": {},
   "outputs": [],
   "source": [
    "import os\n",
    "import rioxarray as rxr\n",
    "import xarray as xr\n",
    "import tifffile\n",
    "from glob import glob\n",
    "import numpy as np\n",
    "from itertools import repeat"
   ]
  },
  {
   "cell_type": "code",
   "execution_count": 2,
   "id": "d4834634-1e25-498d-b96f-bfcb271a97e1",
   "metadata": {},
   "outputs": [],
   "source": [
    "def load_image(path):\n",
    "    return rxr.open_rasterio(path), path\n",
    "    \n",
    "def rescale_to_uint16(da):\n",
    "    da = da.where(~np.isnan(da), 65535)\n",
    "    rescaled = (da * 65535).clip(0, 65535).astype(np.uint16)\n",
    "    \n",
    "    return rescaled\n",
    "\n",
    "def rescale_float32_to_uint16_xarray(xarr):\n",
    "    # Mask NaNs and -1000 values\n",
    "    xarr = xr.where(xarr == -10000.0, 1, xarr)\n",
    "    \n",
    "    # Find min and max values ignoring NaNs\n",
    "    min_val = 0\n",
    "    max_val = 1\n",
    "    \n",
    "    # Normalize to [0, 1] ignoring NaNs\n",
    "    normalized = (xarr - min_val) / (max_val - min_val)\n",
    "    \n",
    "    # Scale to [0, 65534]\n",
    "    scaled = (normalized * 65535).astype(np.uint16)\n",
    "    \n",
    "    # Set NaNs and -1000 to 65535\n",
    "    scaled = scaled.where(~xarr.isnull() & (xarr != -1000), 65535)\n",
    "    \n",
    "    return scaled\n",
    "    \n",
    "def create_4_channel_image(green, red,rededge, nir):\n",
    "    \"\"\"Create a 4-channel image (G, R, RE, NIR).\"\"\"\n",
    "    return np.stack((green, red, rededge, nir), axis=-1)\n",
    "    \n",
    "\n",
    "def save_image(filename, image, metadata=None):\n",
    "    \"\"\"Save the image as a 4-channel TIFF using tifffile.\"\"\"\n",
    "    #tifffile.imwrite(filename, image, photometric='rgb',extratags=metadata[0],subifds = metadata[1])\n",
    "    if metadata is not None:\n",
    "        extratags = metadata[0]\n",
    "        subifds = metadata[1]\n",
    "        with tifffile.TiffWriter(filename) as tiff:\n",
    "            tiff.write(\n",
    "                image,\n",
    "                photometric='rgb',\n",
    "                extratags=extratags,\n",
    "                subifds=subifds\n",
    "            )\n",
    "    else:\n",
    "        with tifffile.TiffWriter(filename) as tiff:\n",
    "            tiff.write(\n",
    "                image,\n",
    "                photometric='rgb')\n",
    "            \n",
    "\n",
    "\n",
    "def process_multispec_set(green_image_path, output_directory):\n",
    "\n",
    "    base_name = os.path.basename(green_image_path).replace(\"_green_modified.tif\", \"\")\n",
    "    # Load the green band image (reference image)\n",
    "    dirname = os.path.dirname(green_image_path)\n",
    "    \n",
    "    green, green_metadata = load_image(green_image_path)\n",
    "    blue, blue_metadata = load_image(os.path.join(dirname, base_name+\"_blue_modified.tif\"))\n",
    "    red, red_metadata = load_image(os.path.join(dirname, base_name+\"_red_modified.tif\"))\n",
    "    rededge, rededge_metadata = load_image(os.path.join(dirname, base_name+\"_red edge_modified.tif\"))\n",
    "    nir, nir_metadata = load_image(os.path.join(dirname, base_name+\"_nir_modified.tif\"))\n",
    "\n",
    "    blue = rescale_float32_to_uint16_xarray(blue)\n",
    "    green = rescale_float32_to_uint16_xarray(green)\n",
    "    red = rescale_float32_to_uint16_xarray(red)\n",
    "    rededge = rescale_float32_to_uint16_xarray(rededge)\n",
    "    nir = rescale_float32_to_uint16_xarray(nir)\n",
    "\n",
    "    \n",
    "     # Create a 4-channel image\n",
    "    image_4ch = np.stack((blue, green, red, rededge, nir), axis=-1)\n",
    "\n",
    "    sensor = \"REDEDGE\"\n",
    "    cal = \"CAL\"\n",
    "    set_title = os.path.basename(os.path.normpath(output_directory))\n",
    "    output_filename = f\"{sensor}_{cal}_{set_title}_{base_name}.tif\"\n",
    "    output_path = os.path.join(output_directory, output_filename)\n",
    "    os.makedirs(output_directory, exist_ok=True)\n",
    "\n",
    "            \n",
    "    if len(image_4ch.shape)>3:\n",
    "        image_4ch = np.squeeze(image_4ch)\n",
    "\n",
    "\n",
    "    # Save the 4-channel image\n",
    "    save_image(output_path, image_4ch)\n",
    "\n",
    "from concurrent.futures import ThreadPoolExecutor\n",
    "from tqdm import tqdm\n",
    "\n",
    "def process_directory(input_dir, output_directory, n_threads= 1):\n",
    "    \"\"\"Process an entire directory with multiple sets of multispectral images.\"\"\"\n",
    "    input_dir = os.path.abspath(input_dir)\n",
    "    os.makedirs(output_directory, exist_ok=True)\n",
    "\n",
    "    # Find all green band images (reference images)\n",
    "    green_images = glob(os.path.join(input_dir, \"*_green_modified.TIF\"))\n",
    "\n",
    "    # Process sets of 4 multispectral images in parallel with a progress bar\n",
    "    with ThreadPoolExecutor(max_workers=n_threads) as executor:\n",
    "        list(tqdm(executor.map(process_multispec_set, green_images, repeat(output_directory)), total=len(green_images)))\n",
    "\n",
    "    print(\"All images successfully processed.\")"
   ]
  },
  {
   "cell_type": "code",
   "execution_count": 3,
   "id": "d278913c-0e39-4ce6-9489-2acf9519c6b1",
   "metadata": {},
   "outputs": [],
   "source": [
    "folder = \"../../data/MS_pretraining/Rededge_potato/multispectral_images/2022_06_15__eko_ecobreed\""
   ]
  },
  {
   "cell_type": "code",
   "execution_count": 4,
   "id": "76d333a7-e552-4d25-8f82-57bab3d119a2",
   "metadata": {},
   "outputs": [
    {
     "name": "stderr",
     "output_type": "stream",
     "text": [
      "100%|████████████████████████████████████████████████████████████████████████████████████████| 1/1 [00:02<00:00,  2.06s/it]"
     ]
    },
    {
     "name": "stdout",
     "output_type": "stream",
     "text": [
      "All images successfully processed.\n"
     ]
    },
    {
     "name": "stderr",
     "output_type": "stream",
     "text": [
      "\n"
     ]
    }
   ],
   "source": [
    "\n",
    "input_folder = folder\n",
    "output_folder = \"../../data/processed/rededge_potato_a/\"\n",
    "process_directory(input_folder, output_folder)"
   ]
  },
  {
   "cell_type": "code",
   "execution_count": 5,
   "id": "c1e91a9a-0585-482e-8dc4-1bad745d2eaa",
   "metadata": {},
   "outputs": [
    {
     "name": "stderr",
     "output_type": "stream",
     "text": [
      "100%|████████████████████████████████████████████████████████████████████████████████████████| 1/1 [00:03<00:00,  3.28s/it]"
     ]
    },
    {
     "name": "stdout",
     "output_type": "stream",
     "text": [
      "All images successfully processed.\n"
     ]
    },
    {
     "name": "stderr",
     "output_type": "stream",
     "text": [
      "\n"
     ]
    }
   ],
   "source": [
    "folder = \"../../data/MS_pretraining/Rededge_potato/multispectral_images/2022_06_15__konv_ecobreed\"\n",
    "\n",
    "input_folder = folder\n",
    "output_folder = \"../../data/processed/rededge_potato_b/\"\n",
    "process_directory(input_folder, output_folder)"
   ]
  },
  {
   "cell_type": "code",
   "execution_count": 6,
   "id": "7456351f-e024-419f-a1c9-1f2d0c6c8767",
   "metadata": {},
   "outputs": [
    {
     "name": "stderr",
     "output_type": "stream",
     "text": [
      "100%|████████████████████████████████████████████████████████████████████████████████████████| 1/1 [00:02<00:00,  2.25s/it]"
     ]
    },
    {
     "name": "stdout",
     "output_type": "stream",
     "text": [
      "All images successfully processed.\n"
     ]
    },
    {
     "name": "stderr",
     "output_type": "stream",
     "text": [
      "\n"
     ]
    }
   ],
   "source": [
    "folder = \"../../data/MS_pretraining/Rededge_potato/multispectral_images/2022_07_11__eko_ecobreed\"\n",
    "\n",
    "input_folder = folder\n",
    "output_folder = \"../../data/processed/rededge_potato_c/\"\n",
    "process_directory(input_folder, output_folder)"
   ]
  },
  {
   "cell_type": "code",
   "execution_count": 7,
   "id": "f8d35f48-a45e-44f0-a788-120813420fc5",
   "metadata": {},
   "outputs": [
    {
     "name": "stderr",
     "output_type": "stream",
     "text": [
      "100%|████████████████████████████████████████████████████████████████████████████████████████| 1/1 [00:03<00:00,  3.42s/it]"
     ]
    },
    {
     "name": "stdout",
     "output_type": "stream",
     "text": [
      "All images successfully processed.\n"
     ]
    },
    {
     "name": "stderr",
     "output_type": "stream",
     "text": [
      "\n"
     ]
    }
   ],
   "source": [
    "folder = \"../../data/MS_pretraining/Rededge_potato/multispectral_images/2022_07_11__konv_ecobreed\"\n",
    "\n",
    "input_folder = folder\n",
    "output_folder = \"../../data/processed/rededge_potato_d/\"\n",
    "process_directory(input_folder, output_folder)"
   ]
  },
  {
   "cell_type": "code",
   "execution_count": 8,
   "id": "8b58f7a0-7911-40d2-8705-0962621b264b",
   "metadata": {},
   "outputs": [
    {
     "name": "stderr",
     "output_type": "stream",
     "text": [
      "0it [00:00, ?it/s]"
     ]
    },
    {
     "name": "stdout",
     "output_type": "stream",
     "text": [
      "All images successfully processed.\n"
     ]
    },
    {
     "name": "stderr",
     "output_type": "stream",
     "text": [
      "\n"
     ]
    }
   ],
   "source": [
    "folder = \"../../data/MS_pretrainingRededge_potato/multispectral_images/2022_07_20__eko_ecobreed\"\n",
    "\n",
    "input_folder = folder\n",
    "output_folder = \"../../data/processed/rededge_potato_e/\"\n",
    "process_directory(input_folder, output_folder)"
   ]
  },
  {
   "cell_type": "code",
   "execution_count": 9,
   "id": "09700e6e-374a-4151-b4ae-9c88c236d3d5",
   "metadata": {},
   "outputs": [
    {
     "name": "stderr",
     "output_type": "stream",
     "text": [
      "100%|████████████████████████████████████████████████████████████████████████████████████████| 1/1 [00:01<00:00,  1.33s/it]"
     ]
    },
    {
     "name": "stdout",
     "output_type": "stream",
     "text": [
      "All images successfully processed.\n"
     ]
    },
    {
     "name": "stderr",
     "output_type": "stream",
     "text": [
      "\n"
     ]
    }
   ],
   "source": [
    "folder = \"../../data/MS_pretraining/Rededge_potato/multispectral_images/2022_07_20__konv_ecobreed\"\n",
    "\n",
    "input_folder = folder\n",
    "output_folder = \"../../data/processed/rededge_potato_f/\"\n",
    "process_directory(input_folder, output_folder)"
   ]
  },
  {
   "cell_type": "code",
   "execution_count": null,
   "id": "3a8ba9e7-04d6-4915-87b8-2685b71b1aef",
   "metadata": {},
   "outputs": [],
   "source": []
  },
  {
   "cell_type": "code",
   "execution_count": null,
   "id": "7ad49dda-d2d0-4a76-9c63-9f82f476de2a",
   "metadata": {},
   "outputs": [],
   "source": []
  }
 ],
 "metadata": {
  "kernelspec": {
   "display_name": "Python 3 (ipykernel)",
   "language": "python",
   "name": "python3"
  },
  "language_info": {
   "codemirror_mode": {
    "name": "ipython",
    "version": 3
   },
   "file_extension": ".py",
   "mimetype": "text/x-python",
   "name": "python",
   "nbconvert_exporter": "python",
   "pygments_lexer": "ipython3",
   "version": "3.13.1"
  }
 },
 "nbformat": 4,
 "nbformat_minor": 5
}
