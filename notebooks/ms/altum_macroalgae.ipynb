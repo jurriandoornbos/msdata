{
 "cells": [
  {
   "cell_type": "markdown",
   "id": "8cc26962-ebf2-4623-8b5a-efb2d569eaa4",
   "metadata": {},
   "source": [
    "# Image registration for Altum Macroalgae \n",
    "As it is a Altum orthomosaic, scaled from 0-to-1 and the filetitles gives 'reflectance', we assume it is calibrated\n",
    "* For the following Dataset: https://zenodo.org/records/13880699\n",
    "* Using code snippets from:\n",
    "  \n",
    "Output: `uint16` 0-65535 scaled .tif files with green, red, rededge, nir bands\n"
   ]
  },
  {
   "cell_type": "code",
   "execution_count": 1,
   "id": "384ecad8-063c-4cdf-ab94-3884ddb440d4",
   "metadata": {},
   "outputs": [],
   "source": [
    "import os\n",
    "import rioxarray as rxr\n",
    "import tifffile\n",
    "from glob import glob\n",
    "import numpy as np\n",
    "from itertools import repeat"
   ]
  },
  {
   "cell_type": "code",
   "execution_count": 3,
   "id": "d4834634-1e25-498d-b96f-bfcb271a97e1",
   "metadata": {},
   "outputs": [],
   "source": [
    "def load_image(path):\n",
    "    return rxr.open_rasterio(path), path\n",
    "    \n",
    "def rescale_to_uint16(da):\n",
    "    da = da.where(~np.isnan(da), 65535)\n",
    "    rescaled = (da * 65535).clip(0, 65535).astype(np.uint16)\n",
    "    \n",
    "    return rescaled\n",
    "\n",
    "    \n",
    "def create_4_channel_image(green, red,rededge, nir):\n",
    "    \"\"\"Create a 4-channel image (G, R, RE, NIR).\"\"\"\n",
    "    return np.stack((green, red, rededge, nir), axis=-1)\n",
    "    \n",
    "\n",
    "def save_image(filename, image, metadata=None):\n",
    "    \"\"\"Save the image as a 4-channel TIFF using tifffile.\"\"\"\n",
    "    #tifffile.imwrite(filename, image, photometric='rgb',extratags=metadata[0],subifds = metadata[1])\n",
    "    if metadata is not None:\n",
    "        extratags = metadata[0]\n",
    "        subifds = metadata[1]\n",
    "        with tifffile.TiffWriter(filename) as tiff:\n",
    "            tiff.write(\n",
    "                image,\n",
    "                photometric='rgb',\n",
    "                extratags=extratags,\n",
    "                subifds=subifds\n",
    "            )\n",
    "    else:\n",
    "        with tifffile.TiffWriter(filename) as tiff:\n",
    "            tiff.write(\n",
    "                image,\n",
    "                photometric='rgb')\n",
    "            \n",
    "\n",
    "\n",
    "def process_multispec_set(green_image_path, output_directory):\n",
    "\n",
    "    base_name = os.path.basename(green_image_path).replace(\"_green.tif\", \"\")\n",
    "    # Load the green band image (reference image)\n",
    "    green_image, green_metadata = load_image(green_image_path)\n",
    "    \n",
    "    bands = {}\n",
    "    for band in [\"blue\", \"red\", \"red edge\", \"nir\"]:\n",
    "        band_image_path = green_image_path.replace(\"_green.tif\", f\"_{band}.tif\")\n",
    "        if os.path.exists(band_image_path):\n",
    "            bands[band], _ = load_image(band_image_path)\n",
    "        else:\n",
    "            print(f\"Missing {band} band for {green_image_path}\")\n",
    "            return\n",
    "    bands[\"green\"] = green_image\n",
    "        \n",
    "    sensor = \"ALTUM\"\n",
    "    cal = \"CAL\"\n",
    "    set_title = os.path.basename(os.path.normpath(output_directory))\n",
    "    output_filename = f\"{sensor}_{cal}_{set_title}_{base_name}.tif\"\n",
    "    output_path = os.path.join(output_directory, output_filename)\n",
    "    os.makedirs(output_directory, exist_ok=True)\n",
    "\n",
    "    # processing steps:\n",
    "    fill = bands[\"green\"]._FillValue\n",
    "    blue = rescale_to_uint16(bands[\"blue\"]) \n",
    "    green = rescale_to_uint16(bands[\"green\"]) \n",
    "    red = rescale_to_uint16(bands[\"red\"])  \n",
    "    rededge = rescale_to_uint16(bands[\"red edge\"]) \n",
    "    nir = rescale_to_uint16(bands[\"nir\"]) \n",
    "    \n",
    "\n",
    "     # Create a 4-channel image\n",
    "    image_4ch = np.stack((blue,green, red, rededge, nir), axis=-1)\n",
    "    if len(image_4ch.shape)>3:\n",
    "        image_4ch = np.squeeze(image_4ch)\n",
    "        print(\"Squeezed it\")\n",
    "\n",
    "    # Save the 4-channel image\n",
    "    save_image(output_path, image_4ch)\n",
    "\n",
    "from concurrent.futures import ThreadPoolExecutor\n",
    "from tqdm import tqdm\n",
    "\n",
    "def process_directory(input_dir, output_directory, n_threads= 1):\n",
    "    \"\"\"Process an entire directory with multiple sets of multispectral images.\"\"\"\n",
    "    input_dir = os.path.abspath(input_dir)\n",
    "    os.makedirs(output_directory, exist_ok=True)\n",
    "\n",
    "    # Find all green band images (reference images)\n",
    "    green_images = glob(os.path.join(input_dir, \"*_green.tif\"))\n",
    "\n",
    "    # Process sets of 4 multispectral images in parallel with a progress bar\n",
    "    with ThreadPoolExecutor(max_workers=n_threads) as executor:\n",
    "        list(tqdm(executor.map(process_multispec_set, green_images, repeat(output_directory)), total=len(green_images)))\n",
    "\n",
    "    print(\"All images successfully processed.\")"
   ]
  },
  {
   "cell_type": "code",
   "execution_count": 4,
   "id": "d278913c-0e39-4ce6-9489-2acf9519c6b1",
   "metadata": {},
   "outputs": [],
   "source": [
    "folder = \"../../data/MS_pretraining/Altum_macroalgae/\"\n",
    "orthos = os.path.join(folder, \"Orthoimages\")"
   ]
  },
  {
   "cell_type": "code",
   "execution_count": 5,
   "id": "76d333a7-e552-4d25-8f82-57bab3d119a2",
   "metadata": {},
   "outputs": [
    {
     "name": "stderr",
     "output_type": "stream",
     "text": [
      "  0%|                                                                                            | 0/4 [00:00<?, ?it/s]"
     ]
    },
    {
     "name": "stdout",
     "output_type": "stream",
     "text": [
      "Squeezed it\n"
     ]
    },
    {
     "name": "stderr",
     "output_type": "stream",
     "text": [
      " 25%|█████████████████████                                                               | 1/4 [00:17<00:51, 17.17s/it]"
     ]
    },
    {
     "name": "stdout",
     "output_type": "stream",
     "text": [
      "Squeezed it\n"
     ]
    },
    {
     "name": "stderr",
     "output_type": "stream",
     "text": [
      " 50%|██████████████████████████████████████████                                          | 2/4 [00:31<00:30, 15.48s/it]"
     ]
    },
    {
     "name": "stdout",
     "output_type": "stream",
     "text": [
      "Squeezed it\n"
     ]
    },
    {
     "name": "stderr",
     "output_type": "stream",
     "text": [
      " 75%|███████████████████████████████████████████████████████████████                     | 3/4 [00:46<00:15, 15.42s/it]"
     ]
    },
    {
     "name": "stdout",
     "output_type": "stream",
     "text": [
      "Squeezed it\n"
     ]
    },
    {
     "name": "stderr",
     "output_type": "stream",
     "text": [
      "100%|████████████████████████████████████████████████████████████████████████████████████| 4/4 [01:02<00:00, 15.63s/it]"
     ]
    },
    {
     "name": "stdout",
     "output_type": "stream",
     "text": [
      "All images successfully processed.\n"
     ]
    },
    {
     "name": "stderr",
     "output_type": "stream",
     "text": [
      "\n"
     ]
    }
   ],
   "source": [
    "\n",
    "input_folder = orthos\n",
    "output_folder = \"../../data/processed/altum_macroalgae\"\n",
    "process_directory(input_folder, output_folder)"
   ]
  },
  {
   "cell_type": "code",
   "execution_count": null,
   "id": "0c463e76-184e-41a3-814b-98c435b23839",
   "metadata": {},
   "outputs": [],
   "source": []
  }
 ],
 "metadata": {
  "kernelspec": {
   "display_name": "Python 3 (ipykernel)",
   "language": "python",
   "name": "python3"
  },
  "language_info": {
   "codemirror_mode": {
    "name": "ipython",
    "version": 3
   },
   "file_extension": ".py",
   "mimetype": "text/x-python",
   "name": "python",
   "nbconvert_exporter": "python",
   "pygments_lexer": "ipython3",
   "version": "3.13.1"
  }
 },
 "nbformat": 4,
 "nbformat_minor": 5
}
