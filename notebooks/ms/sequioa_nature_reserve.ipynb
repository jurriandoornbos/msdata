{
 "cells": [
  {
   "attachments": {},
   "cell_type": "markdown",
   "id": "8cc26962-ebf2-4623-8b5a-efb2d569eaa4",
   "metadata": {},
   "source": [
    "# Image registration for Nature reserve\n",
    "\n",
    "As it is a sequoia orthomosaic, scaled from 0-to-1, we assume it is calibrated\n",
    "* For the following Dataset: https://zenodo.org/records/3063335\n",
    "* Using code snippets from:\n",
    "\n",
    "Output: `uint16` 0-65535 scaled .tif files with green, red, rededge, nir bands\n"
   ]
  },
  {
   "cell_type": "code",
   "execution_count": 1,
   "id": "384ecad8-063c-4cdf-ab94-3884ddb440d4",
   "metadata": {},
   "outputs": [],
   "source": [
    "import os\n",
    "import rioxarray as rxr\n",
    "import xarray as xr\n",
    "import tifffile\n",
    "from glob import glob\n",
    "import numpy as np\n",
    "from itertools import repeat"
   ]
  },
  {
   "cell_type": "code",
   "execution_count": 2,
   "id": "d4834634-1e25-498d-b96f-bfcb271a97e1",
   "metadata": {},
   "outputs": [],
   "source": [
    "def load_image(path):\n",
    "    return rxr.open_rasterio(path), path\n",
    "    \n",
    "def rescale_to_uint16(da):\n",
    "    da = da.where(~np.isnan(da), 65535)\n",
    "    rescaled = (da * 65535).clip(0, 65535).astype(np.uint16)\n",
    "    \n",
    "    return rescaled\n",
    "\n",
    "def rescale_float32_to_uint16_xarray(xarr):\n",
    "    # Mask NaNs and -1000 values\n",
    "    xarr = xr.where(xarr == -99999, 1, xarr)\n",
    "    \n",
    "    # Find min and max values ignoring NaNs\n",
    "    min_val = 0\n",
    "    max_val = 1\n",
    "    \n",
    "    # Normalize to [0, 1] ignoring NaNs\n",
    "    normalized = (xarr - min_val) / (max_val - min_val)\n",
    "    \n",
    "    # Scale to [0, 65534]\n",
    "    scaled = (normalized * 65535).astype(np.uint16)\n",
    "    \n",
    "    # Set NaNs and -1000 to 65535\n",
    "    scaled = scaled.where(~xarr.isnull() , 65535)\n",
    "    \n",
    "    return scaled\n",
    "    \n",
    "def create_4_channel_image(green, red,rededge, nir):\n",
    "    \"\"\"Create a 4-channel image (G, R, RE, NIR).\"\"\"\n",
    "    return np.stack((green, red, rededge, nir), axis=-1)\n",
    "    \n",
    "\n",
    "def save_image(filename, image, metadata=None):\n",
    "    tifffile.imwrite(\n",
    "        filename,  \n",
    "        image,  \n",
    "        bigtiff=True,             # Enables file sizes > 4GB\n",
    "        tile=(256, 256),          # Tiling improves I/O performance (optional)\n",
    "        photometric='rgb'         # Good for multi-channel images (3 or 4 channels)\n",
    "    )\n",
    "\n",
    "\n",
    "def process_multispec_set(green_image_path, output_directory):\n",
    "\n",
    "    base_name = os.path.basename(green_image_path).replace(\".tif\", \"\")\n",
    "    # Load the green band image (reference image)\n",
    "    dirname = os.path.dirname(green_image_path)\n",
    "    \n",
    "    tif,_ = load_image(green_image_path)\n",
    "    green = tif.sel(band=1)\n",
    "    red = tif.sel(band=2)\n",
    "    rededge = tif.sel(band=3)\n",
    "    nir = tif.sel(band=4)\n",
    "    green = rescale_float32_to_uint16_xarray(green)\n",
    "    red = rescale_float32_to_uint16_xarray(red)\n",
    "    rededge = rescale_float32_to_uint16_xarray(rededge)\n",
    "    nir = rescale_float32_to_uint16_xarray(nir)\n",
    "\n",
    "    \n",
    "     # Create a 4-channel image\n",
    "    image_4ch = create_4_channel_image(green, red, rededge, nir)\n",
    "\n",
    "    sensor = \"SEQUOIA\"\n",
    "    cal = \"CAL\"\n",
    "    set_title = os.path.basename(os.path.normpath(output_directory))\n",
    "    output_filename = f\"{sensor}_{cal}_{set_title}_{base_name}.tif\"\n",
    "    output_path = os.path.join(output_directory, output_filename)\n",
    "    os.makedirs(output_directory, exist_ok=True)\n",
    "    if len(image_4ch.shape)>3:\n",
    "        image_4ch = np.squeeze(image_4ch)\n",
    "\n",
    "    # Save the 4-channel image\n",
    "    save_image(output_path, image_4ch)\n",
    "\n",
    "from concurrent.futures import ThreadPoolExecutor\n",
    "from tqdm import tqdm\n",
    "\n",
    "def process_directory(input_dir, output_directory, n_threads= 1):\n",
    "    \"\"\"Process an entire directory with multiple sets of multispectral images.\"\"\"\n",
    "    input_dir = os.path.abspath(input_dir)\n",
    "    os.makedirs(output_directory, exist_ok=True)\n",
    "\n",
    "    # Find all green band images (reference images)\n",
    "    green_images = glob(os.path.join(input_dir, \"*.tif\"))\n",
    "\n",
    "    # Process sets of 4 multispectral images in parallel with a progress bar\n",
    "    with ThreadPoolExecutor(max_workers=n_threads) as executor:\n",
    "        list(tqdm(executor.map(process_multispec_set, green_images, repeat(output_directory)), total=len(green_images)))\n",
    "\n",
    "    print(\"All images successfully processed.\")"
   ]
  },
  {
   "cell_type": "code",
   "execution_count": 3,
   "id": "76d333a7-e552-4d25-8f82-57bab3d119a2",
   "metadata": {},
   "outputs": [
    {
     "name": "stderr",
     "output_type": "stream",
     "text": [
      "100%|███████████████████████████████████████████████████████████████████████████████████████| 1/1 [01:53<00:00, 113.84s/it]"
     ]
    },
    {
     "name": "stdout",
     "output_type": "stream",
     "text": [
      "All images successfully processed.\n"
     ]
    },
    {
     "name": "stderr",
     "output_type": "stream",
     "text": [
      "\n"
     ]
    }
   ],
   "source": [
    "folder = \"../../data/MS_pretraining/Sequoia_nature_reserve\"\n",
    "input_folder = folder\n",
    "output_folder = \"../../data/processed/sequioa_nature_reserve/\"\n",
    "process_directory(input_folder, output_folder)"
   ]
  }
 ],
 "metadata": {
  "kernelspec": {
   "display_name": "Python 3 (ipykernel)",
   "language": "python",
   "name": "python3"
  },
  "language_info": {
   "codemirror_mode": {
    "name": "ipython",
    "version": 3
   },
   "file_extension": ".py",
   "mimetype": "text/x-python",
   "name": "python",
   "nbconvert_exporter": "python",
   "pygments_lexer": "ipython3",
   "version": "3.13.1"
  }
 },
 "nbformat": 4,
 "nbformat_minor": 5
}
